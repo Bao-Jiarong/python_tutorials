{
 "cells": [
  {
   "cell_type": "markdown",
   "metadata": {},
   "source": [
    "## Lesson 1"
   ]
  },
  {
   "cell_type": "markdown",
   "metadata": {},
   "source": [
    "### Part 1: Printing & Accessing to the elements"
   ]
  },
  {
   "cell_type": "code",
   "execution_count": 4,
   "metadata": {},
   "outputs": [
    {
     "name": "stdout",
     "output_type": "stream",
     "text": [
      "[4, 3, 2, 5, 1, 9, 4, 1, 3]\n",
      "\n",
      "[4 3 2 5 1 9 4 1 3]\n",
      "\n",
      "[5 1]\n",
      "\n",
      "[4 3 2 5 1]\n",
      "\n",
      "[5 1 9 4 1 3]\n",
      "\n",
      "[9 4]\n",
      "\n",
      "[4 3 2 5 1 9 4]\n",
      "\n",
      "[9 4 1 3]\n",
      "\n",
      "4\n",
      "\n",
      "3\n",
      "\n",
      "[3 1 4 9 1 5 2 3 4]\n"
     ]
    }
   ],
   "source": [
    "import sys\n",
    "import numpy as np\n",
    "\n",
    "a = [4,3,2,5,1,9,4,1,3]  # this is a Python list\n",
    "b = [1,1,3,2,7,6,1,1,1]  # this is a Python list\n",
    "A = np.array(a)          # this is a Numpy array\n",
    "B = np.array(b)          # this is a Numpy array\n",
    "\n",
    "print(a)\n",
    "print()\n",
    "print(A)\n",
    "print()\n",
    "print(A[3:5])\n",
    "print()\n",
    "print(A[:5])\n",
    "print()\n",
    "print(A[3:])\n",
    "print()\n",
    "print(A[-4:-2])\n",
    "print()\n",
    "print(A[:-2])\n",
    "print()\n",
    "print(A[-4:])\n",
    "print()\n",
    "print(A[0])\n",
    "print()\n",
    "print(A[-1])\n",
    "print()\n",
    "c = A[::-1]\n",
    "print(c)\n"
   ]
  },
  {
   "cell_type": "markdown",
   "metadata": {},
   "source": [
    "### Part 2: Numpy arrays & loops"
   ]
  },
  {
   "cell_type": "code",
   "execution_count": 6,
   "metadata": {},
   "outputs": [
    {
     "name": "stdout",
     "output_type": "stream",
     "text": [
      "1st way\n",
      "4 3 2 5 1 9 4 1 3 \n",
      "\n",
      "2nd way\n",
      "4 3 2 5 1 9 4 1 3 \n"
     ]
    }
   ],
   "source": [
    "a = [4,3,2,5,1,9,4,1,3]  # this is a Python list\n",
    "A = np.array(a)          # this is a Numpy array\n",
    "print(\"1st way\")\n",
    "n = len(A)\n",
    "for i in range(n):\n",
    "    print(A[i], end = \" \")\n",
    "print()\n",
    "print()\n",
    "print(\"2nd way\")\n",
    "for x in A:\n",
    "    print(x, end = \" \")\n",
    "print()"
   ]
  },
  {
   "cell_type": "markdown",
   "metadata": {},
   "source": [
    "### Part 3: Numpy arrays & if else"
   ]
  },
  {
   "cell_type": "code",
   "execution_count": 7,
   "metadata": {},
   "outputs": [
    {
     "name": "stdout",
     "output_type": "stream",
     "text": [
      "2 exists in A\n"
     ]
    }
   ],
   "source": [
    "a = [4,3,2,5,1,9,4,1,3]\n",
    "A = np.array(a) \n",
    "\n",
    "if 2 in A:\n",
    "    print(\"2 exists in A\")\n",
    "else:\n",
    "    print(\"2 doesnt exists in A\")"
   ]
  },
  {
   "cell_type": "markdown",
   "metadata": {},
   "source": [
    "### Part 4: Numpy arrays & functions"
   ]
  },
  {
   "cell_type": "code",
   "execution_count": 8,
   "metadata": {},
   "outputs": [
    {
     "name": "stdout",
     "output_type": "stream",
     "text": [
      "32\n",
      "\n",
      "1\n",
      "\n",
      "9\n",
      "\n",
      "3.5555555555555554\n"
     ]
    }
   ],
   "source": [
    "a = [4,3,2,5,1,9,4,1,3]\n",
    "A = np.array(a) \n",
    "\n",
    "c = A.sum()\n",
    "print(c)\n",
    "print()\n",
    "c = A.min()\n",
    "print(c)\n",
    "print()\n",
    "c = A.max()\n",
    "print(c)\n",
    "print()\n",
    "c = A.mean()\n",
    "print(c)"
   ]
  },
  {
   "cell_type": "markdown",
   "metadata": {},
   "source": [
    "### Part 5: Adding & removing elements"
   ]
  },
  {
   "cell_type": "code",
   "execution_count": 9,
   "metadata": {},
   "outputs": [
    {
     "name": "stdout",
     "output_type": "stream",
     "text": [
      "[4 3 2 5 1 9 4 1 3]\n",
      "\n",
      "[4 3 2 5 1 9 4 1 3 7]\n",
      "\n",
      "[  4   3 100   2   5   1   9   4   1   3   7]\n",
      "\n",
      "[4 3 2 5 1 9 4 1 3 7]\n"
     ]
    }
   ],
   "source": [
    "a = [4,3,2,5,1,9,4,1,3]\n",
    "A = np.array(a) \n",
    "\n",
    "c = A.copy()\n",
    "print(c)\n",
    "print()\n",
    "c = np.append(c,7)         # append at the end\n",
    "print(c)\n",
    "print()\n",
    "c = np.insert(c,2,100)     # insert 100 at the index 2\n",
    "print(c)\n",
    "print()\n",
    "c = np.delete(c, 2)        # remove the element at index 2\n",
    "print(c)"
   ]
  },
  {
   "cell_type": "markdown",
   "metadata": {},
   "source": [
    "### Part 6: Combining arrays"
   ]
  },
  {
   "cell_type": "code",
   "execution_count": 10,
   "metadata": {},
   "outputs": [
    {
     "name": "stdout",
     "output_type": "stream",
     "text": [
      "[4, 3, 2, 5, 1, 9, 4, 1, 3, 1, 1, 3, 2, 7, 6, 1, 1, 1]\n",
      "\n",
      "[4 3 2 5 1 9 4 1 3 1 1 3 2 7 6 1 1 1]\n",
      "\n",
      "[4 3 2 5 1 9 4 1 3 1 1 3 2 7 6 1 1 1]\n",
      "\n",
      "[[4 3 2 5 1 9 4 1 3]\n",
      " [1 1 3 2 7 6 1 1 1]]\n"
     ]
    }
   ],
   "source": [
    "a = [4,3,2,5,1,9,4,1,3]\n",
    "b = [1,1,3,2,7,6,1,1,1]\n",
    "A = np.array(a) \n",
    "B = np.array(b)\n",
    "\n",
    "c = a + b                            # concatenation of two lists\n",
    "print(c)\n",
    "print()\n",
    "c = np.concatenate((A, B), axis = 0) # concatenation of two numpy arrays\n",
    "print(c)\n",
    "print()\n",
    "c = np.hstack((A, B))                # horizontal stacking of two numpy arrays\n",
    "print(c)\n",
    "print()\n",
    "c = np.vstack((A, B))                # vertical stacking of two numpy arrays\n",
    "print(c)"
   ]
  },
  {
   "cell_type": "markdown",
   "metadata": {},
   "source": [
    "### Part 7: Mathematics"
   ]
  },
  {
   "cell_type": "code",
   "execution_count": 11,
   "metadata": {},
   "outputs": [
    {
     "name": "stdout",
     "output_type": "stream",
     "text": [
      "[ 5  4  5  7  8 15  5  2  4]\n",
      "\n",
      "[ 3  2 -1  3 -6  3  3  0  2]\n",
      "\n",
      "[ 4  3  6 10  7 54  4  1  3]\n",
      "\n",
      "[4.         3.         0.66666667 2.5        0.14285714 1.5\n",
      " 4.         1.         3.        ]\n",
      "\n",
      "92\n",
      "\n",
      "[-0.7568025   0.14112001  0.90929743 -0.95892427  0.84147098  0.41211849\n",
      " -0.7568025   0.84147098  0.14112001]\n",
      "\n",
      "[-0.65364362 -0.9899925  -0.41614684  0.28366219  0.54030231 -0.91113026\n",
      " -0.65364362  0.54030231 -0.9899925 ]\n",
      "\n",
      "[2.         1.73205081 1.41421356 2.23606798 1.         3.\n",
      " 2.         1.         1.73205081]\n",
      "\n",
      "[1.38629436 1.09861229 0.69314718 1.60943791 0.         2.19722458\n",
      " 1.38629436 0.         1.09861229]\n"
     ]
    }
   ],
   "source": [
    "a = [4,3,2,5,1,9,4,1,3]\n",
    "b = [1,1,3,2,7,6,1,1,1]\n",
    "A = np.array(a) \n",
    "B = np.array(b)\n",
    "\n",
    "c = np.add(A,B)\n",
    "# c = A + B\n",
    "print(c)\n",
    "print()\n",
    "c = np.subtract(A,B)\n",
    "# c = A - B\n",
    "print(c)\n",
    "print()\n",
    "c = np.multiply(A,B)\n",
    "# c = A @ B\n",
    "print(c)\n",
    "print()\n",
    "c = np.divide(A,B)\n",
    "# c = A / B\n",
    "print(c)\n",
    "print()\n",
    "c = np.dot(A,B)\n",
    "print(c)\n",
    "print()\n",
    "c = np.sin(A)\n",
    "print(c)\n",
    "print()\n",
    "c = np.cos(A)\n",
    "print(c)\n",
    "print()\n",
    "c = np.sqrt(A)\n",
    "print(c)\n",
    "print()\n",
    "c = np.log(A)\n",
    "print(c)"
   ]
  },
  {
   "cell_type": "markdown",
   "metadata": {},
   "source": [
    "## Lesson 2"
   ]
  },
  {
   "cell_type": "markdown",
   "metadata": {},
   "source": [
    "### Part 1: Printing & Accessing to the elements"
   ]
  },
  {
   "cell_type": "code",
   "execution_count": 14,
   "metadata": {},
   "outputs": [
    {
     "name": "stdout",
     "output_type": "stream",
     "text": [
      "[[4, 3, 2], [5, 1, 9], [4, 1, 3]]\n",
      "\n",
      "[[4 3 2]\n",
      " [5 1 9]\n",
      " [4 1 3]]\n",
      "\n",
      "[4 3 2]\n",
      "\n",
      "[4 1 3]\n",
      "\n",
      "[[4 3 2]]\n",
      "\n",
      "[[5 1 9]\n",
      " [4 1 3]]\n",
      "\n",
      "[[4 3 2]]\n",
      "\n",
      "[[4 1 3]]\n",
      "\n",
      "[[4 1 3]\n",
      " [5 1 9]\n",
      " [4 3 2]]\n"
     ]
    }
   ],
   "source": [
    "import sys\n",
    "import numpy as np\n",
    "\n",
    "a = [[4,3,2],[5,1,9],[4,1,3]]  # this is a Python matrix\n",
    "A = np.array(a)                # this is a Numpy matrix\n",
    "\n",
    "print(a)\n",
    "print()\n",
    "print(A)\n",
    "print()\n",
    "print(A[0])\n",
    "print()\n",
    "print(A[-1])\n",
    "print()\n",
    "print(A[:1])\n",
    "print()\n",
    "print(A[1:])\n",
    "print()\n",
    "print(A[:-2])\n",
    "print()\n",
    "print(A[-1:])\n",
    "print()\n",
    "c = A[::-1]\n",
    "print(c)"
   ]
  },
  {
   "cell_type": "markdown",
   "metadata": {},
   "source": [
    "### Part 2: Numpy arrays & loops"
   ]
  },
  {
   "cell_type": "code",
   "execution_count": 16,
   "metadata": {},
   "outputs": [
    {
     "name": "stdout",
     "output_type": "stream",
     "text": [
      "1st way\n",
      "[4 3 2] [5 1 9] [4 1 3] \n",
      "\n",
      "2nd way\n",
      "[4 3 2] [5 1 9] [4 1 3] "
     ]
    }
   ],
   "source": [
    "a = [[4,3,2],[5,1,9],[4,1,3]]  \n",
    "A = np.array(a)                \n",
    "\n",
    "print(\"1st way\")\n",
    "n = len(A)\n",
    "for i in range(n):\n",
    "    print(A[i], end = \" \")\n",
    "print()\n",
    "print()\n",
    "print(\"2nd way\")\n",
    "for x in A:\n",
    "    print(x, end = \" \")"
   ]
  },
  {
   "cell_type": "markdown",
   "metadata": {},
   "source": [
    "### Part 3: Numpy arrays & if else"
   ]
  },
  {
   "cell_type": "code",
   "execution_count": 17,
   "metadata": {},
   "outputs": [
    {
     "name": "stdout",
     "output_type": "stream",
     "text": [
      "2 exists in A\n"
     ]
    }
   ],
   "source": [
    "a = [[4,3,2],[5,1,9],[4,1,3]]  \n",
    "A = np.array(a)                \n",
    "\n",
    "if 2 in A:\n",
    "    print(\"2 exists in A\")\n",
    "else:\n",
    "    print(\"2 doesnt exists in A\")"
   ]
  },
  {
   "cell_type": "markdown",
   "metadata": {},
   "source": [
    "### Part 4: Numpy arrays & functions"
   ]
  },
  {
   "cell_type": "code",
   "execution_count": 18,
   "metadata": {},
   "outputs": [
    {
     "name": "stdout",
     "output_type": "stream",
     "text": [
      "32\n",
      "\n",
      "[13  5 14]\n",
      "\n",
      "[ 9 15  8]\n",
      "\n",
      "1\n",
      "\n",
      "[4 1 2]\n",
      "\n",
      "[2 1 1]\n",
      "\n",
      "9\n",
      "\n",
      "[5 3 9]\n",
      "\n",
      "[4 9 4]\n",
      "\n",
      "3.5555555555555554\n",
      "\n",
      "[4.33333333 1.66666667 4.66666667]\n",
      "\n",
      "[3.         5.         2.66666667]\n"
     ]
    }
   ],
   "source": [
    "a = [[4,3,2],[5,1,9],[4,1,3]]  \n",
    "A = np.array(a)                \n",
    "\n",
    "c = A.sum()\n",
    "print(c)\n",
    "print()\n",
    "c = A.sum(axis=0)\n",
    "print(c)\n",
    "print()\n",
    "c = A.sum(axis=1)\n",
    "print(c)\n",
    "print()\n",
    "c = A.min()\n",
    "print(c)\n",
    "print()\n",
    "c = A.min(axis=0)\n",
    "print(c)\n",
    "print()\n",
    "c = A.min(axis=1)\n",
    "print(c)\n",
    "print()\n",
    "c = A.max()\n",
    "print(c)\n",
    "print()\n",
    "c = A.max(axis=0)\n",
    "print(c)\n",
    "print()\n",
    "c = A.max(axis=1)\n",
    "print(c)\n",
    "print()\n",
    "c = A.mean()\n",
    "print(c)\n",
    "print()\n",
    "c = A.mean(axis=0)\n",
    "print(c)\n",
    "print()\n",
    "c = A.mean(axis=1)\n",
    "print(c)"
   ]
  },
  {
   "cell_type": "markdown",
   "metadata": {},
   "source": [
    "### Part 5: Adding & removing elements"
   ]
  },
  {
   "cell_type": "code",
   "execution_count": 19,
   "metadata": {},
   "outputs": [
    {
     "name": "stdout",
     "output_type": "stream",
     "text": [
      "[[  4   3   2]\n",
      " [  5   1   9]\n",
      " [100 100 100]\n",
      " [  4   1   3]]\n",
      "\n",
      "[[  4   3 100   2]\n",
      " [  5   1 100   9]\n",
      " [  4   1 100   3]]\n",
      "\n",
      "[[4 3 2]\n",
      " [5 1 9]]\n",
      "\n",
      "[[4 3]\n",
      " [5 1]\n",
      " [4 1]]\n"
     ]
    }
   ],
   "source": [
    "a = [[4,3,2],[5,1,9],[4,1,3]]  \n",
    "A = np.array(a)                \n",
    "\n",
    "c = np.insert(A,2,[100,100,100], axis = 0)     # insert 100 at the index 2 (axis 0)\n",
    "print(c)\n",
    "print()\n",
    "c = np.insert(A,2,[100,100,100], axis = 1)     # insert 100 at the index 2 (axis 1)\n",
    "print(c)\n",
    "print()\n",
    "c = np.delete(A, 2, axis = 0)                  # remove the element at index 2, axis 0\n",
    "print(c)\n",
    "print()\n",
    "c = np.delete(A, 2, axis = 1)                  # remove the element at index 2, axis 1\n",
    "print(c)"
   ]
  },
  {
   "cell_type": "markdown",
   "metadata": {},
   "source": [
    "### Part 6: Combining arrays"
   ]
  },
  {
   "cell_type": "code",
   "execution_count": 20,
   "metadata": {},
   "outputs": [
    {
     "name": "stdout",
     "output_type": "stream",
     "text": [
      "[[4, 3, 2], [5, 1, 9], [4, 1, 3], [1, 1, 3], [2, 7, 6], [1, 1, 1]]\n",
      "\n",
      "[[4 3 2]\n",
      " [5 1 9]\n",
      " [4 1 3]\n",
      " [1 1 3]\n",
      " [2 7 6]\n",
      " [1 1 1]]\n",
      "\n",
      "[[4 3 2 1 1 3]\n",
      " [5 1 9 2 7 6]\n",
      " [4 1 3 1 1 1]]\n",
      "\n",
      "[[4 3 2]\n",
      " [5 1 9]\n",
      " [4 1 3]\n",
      " [1 1 3]\n",
      " [2 7 6]\n",
      " [1 1 1]]\n"
     ]
    }
   ],
   "source": [
    "a = [[4,3,2],[5,1,9],[4,1,3]]  \n",
    "b = [[1,1,3],[2,7,6],[1,1,1]]  \n",
    "A = np.array(a)                \n",
    "B = np.array(b)                \n",
    "\n",
    "c = a + b                            # concatenation of two lists\n",
    "print(c)\n",
    "print()\n",
    "c = np.concatenate((A, B), axis = 0) # concatenation of two numpy arrays\n",
    "print(c)\n",
    "print()\n",
    "c = np.hstack((A, B))                # horizontal stacking of two numpy arrays\n",
    "print(c)\n",
    "print()\n",
    "c = np.vstack((A, B))                # vertical stacking of two numpy arrays\n",
    "print(c)"
   ]
  },
  {
   "cell_type": "markdown",
   "metadata": {},
   "source": [
    "### Part 7: Mathematics (Part 1)"
   ]
  },
  {
   "cell_type": "code",
   "execution_count": 23,
   "metadata": {},
   "outputs": [
    {
     "name": "stdout",
     "output_type": "stream",
     "text": [
      "[[ 5  4  5]\n",
      " [ 7  8 15]\n",
      " [ 5  2  4]]\n",
      "\n",
      "[[ 3  2 -1]\n",
      " [ 3 -6  3]\n",
      " [ 3  0  2]]\n",
      "\n",
      "[[ 4  3  6]\n",
      " [10  7 54]\n",
      " [ 4  1  3]]\n",
      "\n",
      "[[4.         3.         0.66666667]\n",
      " [2.5        0.14285714 1.5       ]\n",
      " [4.         1.         3.        ]]\n",
      "\n",
      "[[12 27 32]\n",
      " [16 21 30]\n",
      " [ 9 14 21]]\n",
      "\n",
      "[[-0.7568025   0.14112001  0.90929743]\n",
      " [-0.95892427  0.84147098  0.41211849]\n",
      " [-0.7568025   0.84147098  0.14112001]]\n",
      "\n",
      "[[-0.65364362 -0.9899925  -0.41614684]\n",
      " [ 0.28366219  0.54030231 -0.91113026]\n",
      " [-0.65364362  0.54030231 -0.9899925 ]]\n",
      "\n",
      "[[2.         1.73205081 1.41421356]\n",
      " [2.23606798 1.         3.        ]\n",
      " [2.         1.         1.73205081]]\n",
      "\n",
      "[[1.38629436 1.09861229 0.69314718]\n",
      " [1.60943791 0.         2.19722458]\n",
      " [1.38629436 0.         1.09861229]]\n"
     ]
    }
   ],
   "source": [
    "a = [[4,3,2],[5,1,9],[4,1,3]]  \n",
    "b = [[1,1,3],[2,7,6],[1,1,1]]  \n",
    "A = np.array(a)                \n",
    "B = np.array(b)  \n",
    "\n",
    "c = np.add(A,B)\n",
    "# c = A + B\n",
    "print(c)\n",
    "print()\n",
    "c = np.subtract(A,B)\n",
    "# c = A - B\n",
    "print(c)\n",
    "print()\n",
    "c = np.multiply(A,B)\n",
    "# c = A @ B\n",
    "print(c)\n",
    "print()\n",
    "c = np.divide(A,B)\n",
    "# c = A / B\n",
    "print(c)\n",
    "print()\n",
    "c = np.dot(A,B)\n",
    "print(c)\n",
    "print()\n",
    "c = np.sin(A)\n",
    "print(c)\n",
    "print()\n",
    "c = np.cos(A)\n",
    "print(c)\n",
    "print()\n",
    "c = np.sqrt(A)\n",
    "print(c)\n",
    "print()\n",
    "c = np.log(A)\n",
    "print(c)"
   ]
  },
  {
   "cell_type": "markdown",
   "metadata": {},
   "source": [
    "### Part 8: Mathematics (Part 2)"
   ]
  },
  {
   "cell_type": "code",
   "execution_count": 22,
   "metadata": {},
   "outputs": [
    {
     "name": "stdout",
     "output_type": "stream",
     "text": [
      "[[4 3 2]\n",
      " [5 1 9]\n",
      " [4 1 3]]\n",
      "\n",
      "[4 3 2 5 1 9 4 1 3]\n",
      "\n",
      "[[4 5 4]\n",
      " [3 1 1]\n",
      " [2 9 3]]\n"
     ]
    }
   ],
   "source": [
    "a = [[4,3,2],[5,1,9],[4,1,3]]    \n",
    "A = np.array(a)      \n",
    "\n",
    "print(A)\n",
    "print()\n",
    "c = A.flatten()\n",
    "print(c)\n",
    "print()\n",
    "c = np.transpose(A)\n",
    "# c = A.T\n",
    "print(c)"
   ]
  },
  {
   "cell_type": "markdown",
   "metadata": {},
   "source": [
    "## Matrices 2D"
   ]
  },
  {
   "cell_type": "markdown",
   "metadata": {},
   "source": [
    "#### Exercise 1:\n",
    "Write a numpy program that prints the dimension of a matrix.\n",
    "\n",
    "```\n",
    "A =[[8, 1, 7, 3],\n",
    "    [0, 0, 1, 1],\n",
    "    [0, 4, 8, 5]]\n",
    "\n",
    "dimension = 3,4\n",
    "```"
   ]
  },
  {
   "cell_type": "code",
   "execution_count": 5,
   "metadata": {},
   "outputs": [
    {
     "name": "stdout",
     "output_type": "stream",
     "text": [
      "3 4\n"
     ]
    }
   ],
   "source": [
    "import numpy as np\n",
    "\n",
    "a = [[8,1,7,3],\n",
    "     [0,0,1,1],\n",
    "     [0,4,8,5]]\n",
    "A = np.array(a)\n",
    "\n",
    "n = len(A)\n",
    "m = len(A[0])\n",
    "print(n,m)\n",
    "#  print(A.shape[1])\n"
   ]
  },
  {
   "cell_type": "markdown",
   "metadata": {},
   "source": [
    "#### Exercise 2:  \n",
    "Write a numpy program that creates an 3x3 identity matrix of 8.\n",
    "\n",
    "```\n",
    "A = [[8, 0, 0],\n",
    "     [0, 8, 0],\n",
    "     [0, 0, 8]]\n",
    "```"
   ]
  },
  {
   "cell_type": "markdown",
   "metadata": {},
   "source": [
    "#### Solution 1:"
   ]
  },
  {
   "cell_type": "code",
   "execution_count": 9,
   "metadata": {},
   "outputs": [
    {
     "name": "stdout",
     "output_type": "stream",
     "text": [
      "[[8 0 0]\n",
      " [0 8 0]\n",
      " [0 0 8]]\n"
     ]
    }
   ],
   "source": [
    "import numpy as np\n",
    "\n",
    "a = [[0,0,0],\n",
    "     [0,0,0],\n",
    "     [0,0,0]]\n",
    "A = np.array(a)\n",
    "n = A.shape[0]\n",
    "m = A.shape[1]\n",
    "for i in range(n):\n",
    "    for j in range(m):\n",
    "        if i == j:\n",
    "            A[i][j] = 8\n",
    "print(A)"
   ]
  },
  {
   "cell_type": "markdown",
   "metadata": {},
   "source": [
    "#### Solution 2:"
   ]
  },
  {
   "cell_type": "code",
   "execution_count": 10,
   "metadata": {},
   "outputs": [
    {
     "name": "stdout",
     "output_type": "stream",
     "text": [
      "[[8. 0. 0. 0. 0.]\n",
      " [0. 8. 0. 0. 0.]\n",
      " [0. 0. 8. 0. 0.]\n",
      " [0. 0. 0. 8. 0.]\n",
      " [0. 0. 0. 0. 8.]]\n"
     ]
    }
   ],
   "source": [
    "import numpy as np\n",
    "\n",
    "a = [[0,0,0],\n",
    "     [0,0,0],\n",
    "     [0,0,0]]\n",
    "a = np.eye(5)*8\n",
    "print(a)"
   ]
  },
  {
   "cell_type": "markdown",
   "metadata": {},
   "source": [
    "#### Exercise 3:  \n",
    "Write a NumPy program to create a 5x5 zero matrix with elements on the main diagonal equal to 1, 2, 3, 4, 5.\n",
    "\n",
    "```\n",
    "A = [[1, 0, 0, 0, 0],\n",
    "     [0, 2, 0, 0, 0],\n",
    "     [0, 0, 3, 0, 0],\n",
    "     [0, 0, 0, 4, 0],\n",
    "     [0, 0, 0, 0, 5]]\n",
    "```"
   ]
  },
  {
   "cell_type": "markdown",
   "metadata": {},
   "source": [
    "#### Solution 1:"
   ]
  },
  {
   "cell_type": "code",
   "execution_count": 52,
   "metadata": {},
   "outputs": [
    {
     "name": "stdout",
     "output_type": "stream",
     "text": [
      "[[1 0 0 0 0]\n",
      " [0 2 0 0 0]\n",
      " [0 0 3 0 0]\n",
      " [0 0 0 4 0]\n",
      " [0 0 0 0 5]]\n"
     ]
    }
   ],
   "source": [
    "a =[[0,0,0,0,0],\n",
    "    [0,0,0,0,0],\n",
    "    [0,0,0,0,0],\n",
    "    [0,0,0,0,0],\n",
    "    [0,0,0,0,0]]\n",
    "A = np.array(a)\n",
    "n = A.shape[0]\n",
    "m = A.shape[1]\n",
    "\n",
    "for i in range(n):\n",
    "    for j in range(m):\n",
    "        if i == j:\n",
    "            A[i][j] = i+1\n",
    "print(A)\n"
   ]
  },
  {
   "cell_type": "markdown",
   "metadata": {},
   "source": [
    "#### Solution 2:"
   ]
  },
  {
   "cell_type": "code",
   "execution_count": 13,
   "metadata": {},
   "outputs": [
    {
     "name": "stdout",
     "output_type": "stream",
     "text": [
      "[[1 0 0 0 0]\n",
      " [0 2 0 0 0]\n",
      " [0 0 3 0 0]\n",
      " [0 0 0 4 0]\n",
      " [0 0 0 0 5]]\n"
     ]
    }
   ],
   "source": [
    "import numpy as np\n",
    "\n",
    "c = np.arange(1,6)\n",
    "A = np.diagflat(c)\n",
    "print(A)"
   ]
  },
  {
   "cell_type": "markdown",
   "metadata": {},
   "source": [
    "#### Exercise 4:  \n",
    "Write a NumPy program to create a 7x7 matrix, in which the elements on the borders will be equal to 1, and inside 0.\n",
    "\n",
    "```\n",
    "A = [[1, 1, 1, 1, 1, 1, 1], \n",
    "     [1, 0, 0, 0, 0, 0, 1], \n",
    "     [1, 0, 0, 0, 0, 0, 1], \n",
    "     [1, 0, 0, 0, 0, 0, 1], \n",
    "     [1, 0, 0, 0, 0, 0, 1], \n",
    "     [1, 0, 0, 0, 0, 0, 1], \n",
    "     [1, 1, 1, 1, 1, 1, 1]]\n",
    "```"
   ]
  },
  {
   "cell_type": "markdown",
   "metadata": {},
   "source": [
    "#### Solution 1:"
   ]
  },
  {
   "cell_type": "code",
   "execution_count": 14,
   "metadata": {},
   "outputs": [
    {
     "name": "stdout",
     "output_type": "stream",
     "text": [
      "[[1 1 1 1 1 1 1]\n",
      " [1 0 0 0 0 0 1]\n",
      " [1 0 0 0 0 0 1]\n",
      " [1 0 0 0 0 0 1]\n",
      " [1 0 0 0 0 0 1]\n",
      " [1 0 0 0 0 0 1]\n",
      " [1 1 1 1 1 1 1]]\n"
     ]
    }
   ],
   "source": [
    "import numpy as np\n",
    "\n",
    "a = [[0,0,0,0,0,0,0],\n",
    "     [0,0,0,0,0,0,0],\n",
    "     [0,0,0,0,0,0,0],\n",
    "     [0,0,0,0,0,0,0],\n",
    "     [0,0,0,0,0,0,0],\n",
    "     [0,0,0,0,0,0,0],\n",
    "     [0,0,0,0,0,0,0]]\n",
    "\n",
    "A = np.array(a)\n",
    "n = len(A)\n",
    "m = len(A[0])\n",
    "for i in range(n):\n",
    "    for j in range(m):\n",
    "        A[0][j]= 1\n",
    "        A[i][0]= 1\n",
    "        A[n-1][j]= 1\n",
    "        A[i][n-1]= 1\n",
    "print(A)"
   ]
  },
  {
   "cell_type": "markdown",
   "metadata": {},
   "source": [
    "#### Solution 2:"
   ]
  },
  {
   "cell_type": "code",
   "execution_count": 15,
   "metadata": {},
   "outputs": [
    {
     "name": "stdout",
     "output_type": "stream",
     "text": [
      "[[1 1 1 1 1 1 1]\n",
      " [1 0 0 0 0 0 1]\n",
      " [1 0 0 0 0 0 1]\n",
      " [1 0 0 0 0 0 1]\n",
      " [1 0 0 0 0 0 1]\n",
      " [1 0 0 0 0 0 1]\n",
      " [1 1 1 1 1 1 1]]\n"
     ]
    }
   ],
   "source": [
    "import numpy as np\n",
    "\n",
    "a = [[0,0,0,0,0,0,0],\n",
    "     [0,0,0,0,0,0,0],\n",
    "     [0,0,0,0,0,0,0],\n",
    "     [0,0,0,0,0,0,0],\n",
    "     [0,0,0,0,0,0,0],\n",
    "     [0,0,0,0,0,0,0],\n",
    "     [0,0,0,0,0,0,0]]\n",
    "\n",
    "A = np.array(a)\n",
    "A[0,:]= 1\n",
    "A[:,0]= 1\n",
    "A[n-1,:]= 1\n",
    "A[:,n-1]= 1\n",
    "print(A)\n"
   ]
  },
  {
   "cell_type": "markdown",
   "metadata": {},
   "source": [
    "#### Exercise 5:  \n",
    "Write a NumPy program to create a 3x3 matrix with values ranging from 2 to 10.\n",
    "     \n",
    "```\n",
    "A = [[2, 3, 4 ],\n",
    "     [5, 6, 7 ],\n",
    "     [8, 9, 10]]\n",
    "```"
   ]
  },
  {
   "cell_type": "markdown",
   "metadata": {},
   "source": [
    "#### Solution 1:"
   ]
  },
  {
   "cell_type": "code",
   "execution_count": 16,
   "metadata": {},
   "outputs": [
    {
     "name": "stdout",
     "output_type": "stream",
     "text": [
      "[[ 2  3  4]\n",
      " [ 5  6  7]\n",
      " [ 8  9 10]]\n"
     ]
    }
   ],
   "source": [
    "a =[[0,0,0],\n",
    "    [0,0,0],\n",
    "    [0,0,0]]\n",
    "A = np.array(a)\n",
    "n = len(A)\n",
    "m = len(A[0])\n",
    "#\n",
    "for i in range(n):\n",
    "    t = i + 1\n",
    "    for j in range(m):\n",
    "        A[i][j]= 2*i + j + t + 1\n",
    "print(A)"
   ]
  },
  {
   "cell_type": "markdown",
   "metadata": {},
   "source": [
    "#### Solution 2:"
   ]
  },
  {
   "cell_type": "code",
   "execution_count": 18,
   "metadata": {},
   "outputs": [
    {
     "name": "stdout",
     "output_type": "stream",
     "text": [
      "[[ 2  3  4]\n",
      " [ 5  6  7]\n",
      " [ 8  9 10]]\n"
     ]
    }
   ],
   "source": [
    "a = np.arange(2,11)\n",
    "A = a.reshape((3,3))\n",
    "print(A)\n"
   ]
  },
  {
   "cell_type": "markdown",
   "metadata": {},
   "source": [
    "#### Exercise 6:  \n",
    "Write a NumPy program to create a nxn matrix and fill it with a checkerboard pattern.\n",
    "     \n",
    "```\n",
    "n = 4\n",
    "Output:\n",
    "       [[0 1 0 1],\n",
    "        [1 0 1 0],\n",
    "        [0 1 0 1],\n",
    "        [1 0 1 0]]\n",
    "```"
   ]
  },
  {
   "cell_type": "code",
   "execution_count": 19,
   "metadata": {},
   "outputs": [
    {
     "name": "stdout",
     "output_type": "stream",
     "text": [
      "[[0 1 0 1]\n",
      " [1 0 1 0]\n",
      " [0 1 0 1]\n",
      " [1 0 1 0]]\n"
     ]
    }
   ],
   "source": [
    "a =[[0,0,0,0],\n",
    "    [0,0,0,0],\n",
    "    [0,0,0,0],\n",
    "    [0,0,0,0]]\n",
    "A = np.array(a)\n",
    "n = len(A)\n",
    "m = len(A[0])\n",
    "\n",
    "for i in range(n):\n",
    "    for j in range(m):\n",
    "        if (i+j)%2==1:\n",
    "            A[i][j] = 1\n",
    "print(A)\n"
   ]
  },
  {
   "cell_type": "markdown",
   "metadata": {},
   "source": [
    "#### Exercise 7:  \n",
    "Write a NumPy program to create an array which looks like below array.\n",
    "\n",
    "```\n",
    "n = 4\n",
    "Output:\n",
    "       [[ 0.  0.  0.]\n",
    "        [ 1.  0.  0.]\n",
    "        [ 1.  1.  0.]\n",
    "        [ 1.  1.  1.]]\n",
    "```"
   ]
  },
  {
   "cell_type": "markdown",
   "metadata": {},
   "source": [
    "#### Solution 1:"
   ]
  },
  {
   "cell_type": "code",
   "execution_count": 20,
   "metadata": {},
   "outputs": [
    {
     "name": "stdout",
     "output_type": "stream",
     "text": [
      "[[0. 0. 0.]\n",
      " [1. 0. 0.]\n",
      " [1. 1. 0.]\n",
      " [1. 1. 1.]]\n"
     ]
    }
   ],
   "source": [
    "import numpy as np\n",
    "\n",
    "a = np.array([])\n",
    "n = 4\n",
    "for i in range(0,n):\n",
    "    for j in range(n-i,n):\n",
    "        a = np.append(a,1)\n",
    "    for k in range(i+1,n):\n",
    "        a = np.append(a,0)\n",
    "        \n",
    "A = a.reshape((n,(n-1)))\n",
    "print(A)"
   ]
  },
  {
   "cell_type": "markdown",
   "metadata": {},
   "source": [
    "#### Solution 2:"
   ]
  },
  {
   "cell_type": "code",
   "execution_count": 24,
   "metadata": {},
   "outputs": [
    {
     "name": "stdout",
     "output_type": "stream",
     "text": [
      "[[1. 0. 0.]\n",
      " [1. 1. 0.]\n",
      " [1. 1. 1.]\n",
      " [1. 1. 1.]]\n"
     ]
    }
   ],
   "source": [
    "x = np.tri(4, 3, 0)\n",
    "print(x)"
   ]
  },
  {
   "cell_type": "markdown",
   "metadata": {},
   "source": [
    "#### Exercise 8:  \n",
    "Write a NumPy program to get the number of nonzero elements in an array.\n",
    "\n",
    "```\n",
    "    Original array:\n",
    "    [[ 0 10 20]\n",
    "     [20 0 40]]\n",
    "    Number of non zero elements in the above array:\n",
    "    4\n",
    "```"
   ]
  },
  {
   "cell_type": "markdown",
   "metadata": {},
   "source": [
    "#### Solution 1:"
   ]
  },
  {
   "cell_type": "code",
   "execution_count": 26,
   "metadata": {},
   "outputs": [
    {
     "name": "stdout",
     "output_type": "stream",
     "text": [
      "nonzero =  4\n"
     ]
    }
   ],
   "source": [
    "import numpy as np\n",
    "\n",
    "a = [[ 0, 10, 20],\n",
    "     [20, 0, 40]]\n",
    "A = np.array(a)\n",
    "s = 0\n",
    "n = A.shape[0]\n",
    "m = A.shape[1]\n",
    "#\n",
    "for i in range(n):\n",
    "    for j in range(m):\n",
    "        if A[i][j]==0:\n",
    "            s = s + 1\n",
    "print(\"nonzero = \",n*m-s)"
   ]
  },
  {
   "cell_type": "markdown",
   "metadata": {},
   "source": [
    "#### Solution 2:"
   ]
  },
  {
   "cell_type": "code",
   "execution_count": 27,
   "metadata": {},
   "outputs": [
    {
     "name": "stdout",
     "output_type": "stream",
     "text": [
      "4\n"
     ]
    }
   ],
   "source": [
    "import numpy as np\n",
    "\n",
    "a = [[ 0, 10, 20],\n",
    "     [20, 0, 40]]\n",
    "A = np.array(a)\n",
    "x = np.count_nonzero(A)\n",
    "print(x)\n"
   ]
  },
  {
   "cell_type": "markdown",
   "metadata": {},
   "source": [
    "#### Exercise 9:  \n",
    "Write a NumPy program to convert a NumPy array of float values to a NumPy array of integer values.\n",
    "\n",
    "```\n",
    "    Original array elements:\n",
    "    [[ 12.0  12.51]\n",
    "     [  2.34  7.98]\n",
    "     [ 25.23 36.5 ]]\n",
    "    Convert float values to intger values:\n",
    "    [[12 12]\n",
    "     [ 2  7]\n",
    "     [25 36]]\n",
    "```"
   ]
  },
  {
   "cell_type": "markdown",
   "metadata": {},
   "source": [
    "#### Solution 1:"
   ]
  },
  {
   "cell_type": "code",
   "execution_count": 28,
   "metadata": {},
   "outputs": [
    {
     "name": "stdout",
     "output_type": "stream",
     "text": [
      "[[12. 12.]\n",
      " [ 2.  7.]\n",
      " [25. 36.]]\n"
     ]
    }
   ],
   "source": [
    "import numpy as np\n",
    "\n",
    "a = [[ 12.0,  12.51],\n",
    "     [  2.34,  7.98],\n",
    "     [ 25.23, 36.5 ]]\n",
    "A = np.array(a)\n",
    "n = A.shape[0]\n",
    "m = A.shape[1]\n",
    "\n",
    "for i in range(n):\n",
    "    for j in range(m):\n",
    "        A[i][j] = int(A[i][j])\n",
    "print(A)\n"
   ]
  },
  {
   "cell_type": "markdown",
   "metadata": {},
   "source": [
    "#### Solution 2:"
   ]
  },
  {
   "cell_type": "code",
   "execution_count": 29,
   "metadata": {},
   "outputs": [
    {
     "name": "stdout",
     "output_type": "stream",
     "text": [
      "[[12 12]\n",
      " [ 2  7]\n",
      " [25 36]]\n"
     ]
    }
   ],
   "source": [
    "A = np.array(a).astype(int)\n",
    "print(A)"
   ]
  },
  {
   "cell_type": "markdown",
   "metadata": {},
   "source": [
    "#### Exercise 10:  \n",
    "Write a NumPy program to remove the negative values in a NumPy array with 0.\n",
    "\n",
    "```\n",
    "    Original array:\n",
    "    [-1 -4 0 2 3 4 5 -6]\n",
    "    Replace the negative values of the said array with 0:\n",
    "    [0 0 0 2 3 4 5 0]\n",
    "```"
   ]
  },
  {
   "cell_type": "markdown",
   "metadata": {},
   "source": [
    "#### Solution 1:"
   ]
  },
  {
   "cell_type": "code",
   "execution_count": 31,
   "metadata": {},
   "outputs": [
    {
     "name": "stdout",
     "output_type": "stream",
     "text": [
      "[0 0 0 2 3 4 5 0]\n"
     ]
    }
   ],
   "source": [
    "import numpy as np\n",
    "\n",
    "A = np.array([-1, -4, 0, 2, 3, 4, 5, -6])\n",
    "n = A.shape[0]\n",
    "#\n",
    "for i in range(n):\n",
    "    if A[i] < 0:\n",
    "        A[i] = 0\n",
    "print(A)\n"
   ]
  },
  {
   "cell_type": "markdown",
   "metadata": {},
   "source": [
    "#### Solution 2:"
   ]
  },
  {
   "cell_type": "code",
   "execution_count": 30,
   "metadata": {},
   "outputs": [
    {
     "name": "stdout",
     "output_type": "stream",
     "text": [
      "[0 0 0 2 3 4 5 0]\n"
     ]
    }
   ],
   "source": [
    "import numpy as np\n",
    "\n",
    "A = np.array([-1, -4, 0, 2, 3, 4, 5, -6])\n",
    "A[A<0]=0\n",
    "print(A)"
   ]
  },
  {
   "cell_type": "markdown",
   "metadata": {},
   "source": [
    "#### Exercise 11:  \n",
    "Write a NumPy program to count the frequency of unique values in NumPy array.\n",
    "\n",
    "```\n",
    "    Original array:\n",
    "    [10 10 20 10 20 20 20 30 30 50 40 40]\n",
    "    \n",
    "    Frequency of unique values of the said array:\n",
    "    [[10 20 30 40 50]\n",
    "     [ 3  4  2  2 1]]\n",
    "```"
   ]
  },
  {
   "cell_type": "markdown",
   "metadata": {},
   "source": [
    "#### Solution 1:"
   ]
  },
  {
   "cell_type": "code",
   "execution_count": 33,
   "metadata": {},
   "outputs": [
    {
     "name": "stdout",
     "output_type": "stream",
     "text": [
      "[[10. 20. 30. 40. 50.]\n",
      " [ 3.  4.  2.  2.  1.]]\n"
     ]
    }
   ],
   "source": [
    "import numpy as np\n",
    "\n",
    "a = np.array([10, 10, 20, 10, 20, 20, 20, 30, 30, 50, 40, 40])\n",
    "b = np.array([])\n",
    "\n",
    "# put unique elelments in an array\n",
    "c = np.unique(a)\n",
    "d = np.array([])\n",
    "# count number of occurences of each element appeared in original array\n",
    "for i in range(len(c)):\n",
    "    s = 0\n",
    "    for j in range(len(a)):\n",
    "        if a[j]==c[i]:\n",
    "            s = s + 1\n",
    "    d = np.append(d,s)\n",
    "k = np.vstack((c,d))\n",
    "print(k)"
   ]
  },
  {
   "cell_type": "markdown",
   "metadata": {},
   "source": [
    "#### Solution 2:"
   ]
  },
  {
   "cell_type": "code",
   "execution_count": 34,
   "metadata": {},
   "outputs": [
    {
     "name": "stdout",
     "output_type": "stream",
     "text": [
      "[10 20 30 40 50]\n",
      "[3 4 2 2 1]\n"
     ]
    }
   ],
   "source": [
    "import numpy as np\n",
    "\n",
    "a = np.array([10, 10, 20, 10, 20, 20, 20, 30, 30, 50, 40, 40])\n",
    "u,c = np.unique(a,return_counts=True)\n",
    "print(u)\n",
    "print(c)"
   ]
  },
  {
   "cell_type": "markdown",
   "metadata": {},
   "source": [
    "#### Exercise 12:  \n",
    "Write a NumPy program to find indices of elements equal to zero in a NumPy array.\n",
    "\n",
    "```\n",
    "    Sample Output:\n",
    "    Original array:\n",
    "    [1 0 2 0 3 0 4 5 6 7 8]\n",
    "    Indices of elements equal to zero of the said array:\n",
    "    [1 3 5]\n",
    "```"
   ]
  },
  {
   "cell_type": "markdown",
   "metadata": {},
   "source": [
    "#### Solution 1:"
   ]
  },
  {
   "cell_type": "code",
   "execution_count": 35,
   "metadata": {},
   "outputs": [
    {
     "name": "stdout",
     "output_type": "stream",
     "text": [
      "[1. 3. 5.]\n"
     ]
    }
   ],
   "source": [
    "import numpy as np\n",
    "\n",
    "a = np.array([1, 0, 2, 0, 3, 0, 4, 5, 6, 7, 8])\n",
    "b = np.array([])\n",
    "\n",
    "for i in range(a.shape[0]):\n",
    "    if a[i]==0:\n",
    "        b = np.append(b,i)\n",
    "print(b)"
   ]
  },
  {
   "cell_type": "markdown",
   "metadata": {},
   "source": [
    "#### Solution 2:"
   ]
  },
  {
   "cell_type": "code",
   "execution_count": 36,
   "metadata": {},
   "outputs": [
    {
     "name": "stdout",
     "output_type": "stream",
     "text": [
      "[0 1 2 3 4 5 6]\n"
     ]
    }
   ],
   "source": [
    "import numpy as np\n",
    "\n",
    "a = np.array([1, 0, 2, 0, 3, 0, 4, 5, 6, 7, 8])\n",
    "x = np.where(a <= 4)\n",
    "print(x[0])"
   ]
  },
  {
   "cell_type": "markdown",
   "metadata": {},
   "source": [
    "#### Exercise 13:  \n",
    "Write a NumPy program to stack arrays in sequence horizontally (column wise).\n",
    "\n",
    "```\n",
    "    Sample Output:\n",
    "     Original arrays:\n",
    "     Array-1:\n",
    "     [[0 1 2]\n",
    "      [3 4 5]\n",
    "      [6 7 8]]\n",
    "     Array-2:\n",
    "     [[ 0  3  6]\n",
    "      [ 9 12 15]\n",
    "      [18 21 24]]\n",
    "     Stack arrays in sequence horizontally:\n",
    "     [[ 0 1 2  0  3  6]\n",
    "      [ 3 4 5  9 12 15]\n",
    "      [ 6 7 8 18 21 24]]\n",
    "```"
   ]
  },
  {
   "cell_type": "code",
   "execution_count": 37,
   "metadata": {},
   "outputs": [
    {
     "name": "stdout",
     "output_type": "stream",
     "text": [
      "[[ 0  1  2  0  3  6]\n",
      " [ 3  4  5  9 12 15]\n",
      " [ 6  7  8 18 21 24]]\n"
     ]
    }
   ],
   "source": [
    "import numpy as np\n",
    "a = [[0, 1, 2],\n",
    "     [3, 4, 5],\n",
    "     [6, 7, 8]]\n",
    "\n",
    "b = [[ 0,  3,  6],\n",
    "     [ 9, 12, 15],\n",
    "     [18, 21, 24]]\n",
    "A = np.array(a)\n",
    "B = np.array(b)\n",
    "c = np.hstack((a,b))\n",
    "print(c)"
   ]
  },
  {
   "cell_type": "markdown",
   "metadata": {},
   "source": [
    "#### Exercise 14:  \n",
    "Write a NumPy program to stack arrays in sequence vertically (row wise).\n",
    "\n",
    "```\n",
    "    Sample Output:\n",
    "    Original arrays:\n",
    "    Array-1\n",
    "    [[0 1 2]\n",
    "     [3 4 5]\n",
    "     [6 7 8]]\n",
    "    Array-2\n",
    "    [[ 0  3  6]\n",
    "     [ 9 12 15]\n",
    "     [18 21 24]]\n",
    "    Stack arrays in sequence horizontally:\n",
    "    [[ 0  1  2]\n",
    "     [ 3  4  5]\n",
    "     [ 6  7  8]\n",
    "     [ 0  3  6]\n",
    "     [ 9 12 15]\n",
    "     [18 21 24]]\n",
    "```"
   ]
  },
  {
   "cell_type": "code",
   "execution_count": 38,
   "metadata": {},
   "outputs": [
    {
     "name": "stdout",
     "output_type": "stream",
     "text": [
      "[[ 0  1  2]\n",
      " [ 3  4  5]\n",
      " [ 6  7  8]\n",
      " [ 0  3  6]\n",
      " [ 9 12 15]\n",
      " [18 21 24]]\n"
     ]
    }
   ],
   "source": [
    "import numpy as np\n",
    "\n",
    "a = [[0, 1, 2],\n",
    "     [3, 4, 5],\n",
    "     [6, 7, 8]]\n",
    "\n",
    "b = [[ 0,  3,  6],\n",
    "     [ 9, 12, 15],\n",
    "     [18, 21, 24]]\n",
    "A = np.array(a)\n",
    "B = np.array(b)\n",
    "c = np.vstack((a,b))\n",
    "print(c)"
   ]
  },
  {
   "cell_type": "markdown",
   "metadata": {},
   "source": [
    "#### Exercise 15:  \n",
    "Write a NumPy program to extract all the elements of the second row from a given (4x4) array.\n",
    "\n",
    "```\n",
    "    Sample Output:\n",
    "    Original array:\n",
    "    [[ 0  1  2  3]\n",
    "     [ 4  5  6  7]\n",
    "     [ 8  9 10 11]\n",
    "     [12 13 14 15]]\n",
    "    Extracted data: Second row\n",
    "     [4 5 6 7]\n",
    "```"
   ]
  },
  {
   "cell_type": "code",
   "execution_count": 39,
   "metadata": {},
   "outputs": [
    {
     "name": "stdout",
     "output_type": "stream",
     "text": [
      "[4 5 6 7]\n",
      "[4 5 6]\n",
      "[5 6]\n",
      "[[ 5  6]\n",
      " [ 9 10]]\n"
     ]
    }
   ],
   "source": [
    "import numpy as np\n",
    "\n",
    "a = [[ 0,  1,  2,  3],\n",
    "     [ 4,  5,  6,  7],\n",
    "     [ 8,  9, 10, 11],\n",
    "     [12, 13, 14, 15]]\n",
    "A = np.array(a)\n",
    "\n",
    "print(A[1])\n",
    "print(A[1][:-1])\n",
    "print(A[1][1:3])\n",
    "print(A[1:3,1:3])"
   ]
  },
  {
   "cell_type": "markdown",
   "metadata": {},
   "source": [
    "#### Exercise 16:  \n",
    "Write a NumPy program to extract all the elements of the third column from a given (4x4) array.\n",
    "\n",
    "```\n",
    "    Sample Output:\n",
    "    Original array:\n",
    "    [[ 0  1  2  3]\n",
    "     [ 4  5  6  7]\n",
    "     [ 8  9 10 11]\n",
    "     [12 13 14 15]]\n",
    "    Extracted data: Third column\n",
    "     [ 2 6 10 14]\n",
    "```"
   ]
  },
  {
   "cell_type": "code",
   "execution_count": 40,
   "metadata": {},
   "outputs": [
    {
     "name": "stdout",
     "output_type": "stream",
     "text": [
      "[ 2  6 10 14]\n",
      "[[ 1  2]\n",
      " [ 5  6]\n",
      " [ 9 10]\n",
      " [13 14]]\n"
     ]
    }
   ],
   "source": [
    "import numpy as np\n",
    "\n",
    "a = [[ 0,  1,  2,  3],\n",
    "     [ 4,  5,  6,  7],\n",
    "     [ 8,  9, 10, 11],\n",
    "     [12, 13, 14, 15]]\n",
    "A = np.array(a)\n",
    "\n",
    "print(A[0:4,2])\n",
    "print(A[0:4,1:3])"
   ]
  },
  {
   "cell_type": "markdown",
   "metadata": {},
   "source": [
    "#### Exercise 17:  \n",
    "Ex17: Write a NumPy program to swap columns in a given array.\n",
    "\n",
    "```\n",
    "    Sample Output:\n",
    "    column1 = 0\n",
    "    column2 = 1\n",
    "    Original array:\n",
    "    [[ 0 1  2  3]\n",
    "     [ 4 5  6  7]\n",
    "     [ 8 9 10 11]]\n",
    "    After swapping arrays:\n",
    "    [[ 1 0  2  3]\n",
    "     [ 5 4  6  7]\n",
    "     [ 9 8 10 11]]\n",
    "```"
   ]
  },
  {
   "cell_type": "markdown",
   "metadata": {},
   "source": [
    "#### Solution 1:"
   ]
  },
  {
   "cell_type": "code",
   "execution_count": 41,
   "metadata": {},
   "outputs": [
    {
     "name": "stdout",
     "output_type": "stream",
     "text": [
      "[[ 1  0  2  3]\n",
      " [ 5  4  6  7]\n",
      " [ 9  8 10 11]]\n"
     ]
    }
   ],
   "source": [
    "import numpy as np\n",
    "\n",
    "a = [[ 0,  1,  2,  3],\n",
    "     [ 4,  5,  6,  7],\n",
    "     [ 8,  9, 10, 11]]\n",
    "A = np.array(a)\n",
    "b = np.array([])\n",
    "\n",
    "# extract column2\n",
    "b = A[0:3,1]\n",
    "# delete column2\n",
    "a = np.delete(a,1,axis = 1)\n",
    "# insert column2 to a\n",
    "c = np.insert(a,0,b,axis=1)\n",
    "print(c)\n"
   ]
  },
  {
   "cell_type": "markdown",
   "metadata": {},
   "source": [
    "#### Solution 2:"
   ]
  },
  {
   "cell_type": "code",
   "execution_count": 45,
   "metadata": {},
   "outputs": [
    {
     "name": "stdout",
     "output_type": "stream",
     "text": [
      "[[ 1  0  2  3]\n",
      " [ 5  4  6  7]\n",
      " [ 9  8 10 11]]\n",
      "\n",
      "[[ 9  8 10 11]\n",
      " [ 5  4  6  7]\n",
      " [ 1  0  2  3]]\n"
     ]
    }
   ],
   "source": [
    "import numpy as np\n",
    "\n",
    "a = [[ 0,  1,  2,  3],\n",
    "     [ 4,  5,  6,  7],\n",
    "     [ 8,  9, 10, 11]]\n",
    "A = np.array(a)\n",
    "A[0:3,0] , A[0:3,1] = A[0:3,1].copy() , A[0:3,0].copy()\n",
    "print(A)\n",
    "print()\n",
    "x = A[0].copy()\n",
    "A[0] = A[2].copy()\n",
    "A[2] = x\n",
    "print(A)"
   ]
  },
  {
   "cell_type": "markdown",
   "metadata": {},
   "source": [
    "#### Test:"
   ]
  },
  {
   "cell_type": "code",
   "execution_count": 46,
   "metadata": {},
   "outputs": [
    {
     "name": "stdout",
     "output_type": "stream",
     "text": [
      "[[ 0  1  2  3]\n",
      " [ 4  5  6  7]\n",
      " [ 8  9 10 11]]\n",
      "[[ 0  1  2  3]\n",
      " [ 4  5  6  7]\n",
      " [ 8  9 10 11]]\n",
      "[[ 0 10  2  3]\n",
      " [ 4  5  6  7]\n",
      " [ 8  9 10 11]]\n",
      "[[ 0  1  2  3]\n",
      " [ 4  5  6  7]\n",
      " [ 8  9 10 11]]\n"
     ]
    }
   ],
   "source": [
    "import numpy as np\n",
    "\n",
    "a = [[ 0,  1,  2,  3],\n",
    "     [ 4,  5,  6,  7],\n",
    "     [ 8,  9, 10, 11]]\n",
    "A = np.array(a)\n",
    "B = A\n",
    "C = B.copy()\n",
    "D = C.copy()\n",
    "C[0][1] = 10\n",
    "print(A)\n",
    "print(B)\n",
    "print(C)\n",
    "print(D)"
   ]
  },
  {
   "cell_type": "markdown",
   "metadata": {},
   "source": [
    "#### Exercise 18:  \n",
    "Write a NumPy program to calculate the sum of all columns of a 2D NumPy array.\n",
    "\n",
    "```\n",
    "    Sample Output:\n",
    "    Original array:\n",
    "    [[ 0  1  2  3  4  5  6  7  8]\n",
    "     [ 9 10 11 12 13 14 15 16 17]\n",
    "     [18 19 20 21 22 23 24 25 26]\n",
    "     [27 28 29 30 31 32 33 34 35]]\n",
    "    Sum of all columns:\n",
    "     [54 58 62 66 70 74 78 82 86]\n",
    "```"
   ]
  },
  {
   "cell_type": "code",
   "execution_count": 47,
   "metadata": {},
   "outputs": [
    {
     "name": "stdout",
     "output_type": "stream",
     "text": [
      "sum of column =  [54 58 62 66 70 74 78 82 86]\n",
      "sum of row =  [ 36 117 198 279]\n"
     ]
    }
   ],
   "source": [
    "import numpy as np\n",
    "\n",
    "a = [[ 0,  1,  2,  3,  4,  5,  6,  7,  8],\n",
    "     [ 9, 10, 11, 12, 13, 14, 15, 16, 17],\n",
    "     [18, 19, 20, 21, 22, 23, 24, 25, 26],\n",
    "     [27, 28, 29, 30, 31, 32, 33, 34, 35]]\n",
    "A = np.array(a)\n",
    "\n",
    "b = A.sum(axis=0)\n",
    "c = A.sum(axis=1)\n",
    "print(\"sum of column = \",b)\n",
    "print(\"sum of row = \",c)"
   ]
  },
  {
   "cell_type": "markdown",
   "metadata": {},
   "source": [
    "#### Exercise 19:  \n",
    "Write a NumPy program to create a new array which is the average of every\n",
    "      consecutive triplet （连续的三个数为一组） of elements of a given array.\n",
    "\n",
    "```\n",
    "    Sample Output:\n",
    "    Original array:\n",
    "    [ 1 2 3 2 4 6 1 2 12 0 -12 6]\n",
    "    Average of every consecutive triplet of elements of the said array:\n",
    "    [ 2. 4. 5. -2.]\n",
    "```"
   ]
  },
  {
   "cell_type": "code",
   "execution_count": 48,
   "metadata": {},
   "outputs": [
    {
     "name": "stdout",
     "output_type": "stream",
     "text": [
      "[[  1.   2.   3.]\n",
      " [  2.   3.   2.]\n",
      " [  3.   2.   4.]\n",
      " [  2.   4.   6.]\n",
      " [  4.   6.   1.]\n",
      " [  6.   1.   2.]\n",
      " [  1.   2.  12.]\n",
      " [  2.  12.   0.]\n",
      " [ 12.   0. -12.]\n",
      " [  0. -12.   6.]]\n",
      "\n",
      "[ 3.  3.  4.  6.  6.  6. 12. 12. 12.  6.]\n"
     ]
    }
   ],
   "source": [
    "import numpy as np\n",
    "\n",
    "a = [ 1, 2, 3, 2, 4, 6, 1, 2, 12, 0, -12, 6]\n",
    "A = np.array(a)\n",
    "n = A.shape[0]\n",
    "\n",
    "# A = A.reshape((n,3))\n",
    "# c = A.mean(axis=1)\n",
    "# print(c)\n",
    "b = np.array([])\n",
    "\n",
    "for i in range(0,n-2):\n",
    "    for j in range(i,i+3):\n",
    "        b = np.append(b,A[j])\n",
    "\n",
    "m = int((b.shape[0]/3))\n",
    "b = b.reshape((m,3))\n",
    "print(b)\n",
    "print()\n",
    "\n",
    "c = b.max(axis=1)\n",
    "print(c)"
   ]
  },
  {
   "cell_type": "markdown",
   "metadata": {},
   "source": [
    "#### Exercise 20:  \n",
    "Write a NumPy program to set zero to lower triangles\n",
    "      along the last two axes of a three-dimensional of a given array.\n",
    "\n",
    "```\n",
    "    Original array:\n",
    "    [[[1, 1, 1. 1. 1. 1. 1. 1.]\n",
    "      [1. 1. 1. 1. 1. 1. 1. 1.]\n",
    "      [1. 1. 1. 1. 1. 1. 1. 1.]\n",
    "      [1. 1. 1. 1. 1. 1. 1. 1.]\n",
    "      [1. 1. 1. 1. 1. 1. 1. 1.]\n",
    "      [1. 1. 1. 1. 1. 1. 1. 1.]\n",
    "      [1. 1. 1. 1. 1. 1. 1. 1.]\n",
    "      [1. 1. 1. 1. 1. 1. 1. 1.]]]\n",
    "\n",
    "    Result:\n",
    "    [[[0. 1. 1. 1. 1. 1. 1. 1.]\n",
    "      [0. 0. 1. 1. 1. 1. 1. 1.]\n",
    "      [0. 0. 0. 1. 1. 1. 1. 1.]\n",
    "      [0. 0. 0. 0. 1. 1. 1. 1.]\n",
    "      [0. 0. 0. 0. 0. 1. 1. 1.]\n",
    "      [0. 0. 0. 0. 0. 0. 1. 1.]\n",
    "      [0. 0. 0. 0. 0. 0. 0. 1.]\n",
    "      [0. 0. 0. 0. 0. 0. 0. 0.]]]\n",
    "```"
   ]
  },
  {
   "cell_type": "markdown",
   "metadata": {},
   "source": [
    "#### Solution 1:"
   ]
  },
  {
   "cell_type": "code",
   "execution_count": 49,
   "metadata": {},
   "outputs": [
    {
     "name": "stdout",
     "output_type": "stream",
     "text": [
      "[[0 1 1 1 1 1 1 1]\n",
      " [0 0 1 1 1 1 1 1]\n",
      " [0 0 0 1 1 1 1 1]\n",
      " [0 0 0 0 1 1 1 1]\n",
      " [0 0 0 0 0 1 1 1]\n",
      " [0 0 0 0 0 0 1 1]\n",
      " [0 0 0 0 0 0 0 1]\n",
      " [0 0 0 0 0 0 0 0]]\n"
     ]
    }
   ],
   "source": [
    "import numpy as np\n",
    "\n",
    "a = [[1, 1, 1, 1, 1, 1, 1, 1],\n",
    "      [1, 1, 1, 1, 1, 1, 1, 1],\n",
    "      [1, 1, 1, 1, 1, 1, 1, 1],\n",
    "      [1, 1, 1, 1, 1, 1, 1, 1],\n",
    "      [1, 1, 1, 1, 1, 1, 1, 1],\n",
    "      [1, 1, 1, 1, 1, 1, 1, 1],\n",
    "      [1, 1, 1, 1, 1, 1, 1, 1],\n",
    "      [1, 1, 1, 1, 1, 1, 1, 1]]\n",
    "A = np.array(a)\n",
    "n = A.shape[0]\n",
    "m = A.shape[1]\n",
    "\n",
    "for i in range(0,n):\n",
    "    for j in range(n-i-1,m):\n",
    "        A[i][n-j-1] = 0\n",
    "    for k in range(i+1,m):\n",
    "        A[i][k] = 1\n",
    "print(A)"
   ]
  },
  {
   "cell_type": "markdown",
   "metadata": {},
   "source": [
    "#### Solution 2:"
   ]
  },
  {
   "cell_type": "code",
   "execution_count": 50,
   "metadata": {},
   "outputs": [
    {
     "name": "stdout",
     "output_type": "stream",
     "text": [
      "[[0 1 1 1 1 1 1 1]\n",
      " [0 0 1 1 1 1 1 1]\n",
      " [0 0 0 1 1 1 1 1]\n",
      " [0 0 0 0 1 1 1 1]\n",
      " [0 0 0 0 0 1 1 1]\n",
      " [0 0 0 0 0 0 1 1]\n",
      " [0 0 0 0 0 0 0 1]\n",
      " [0 0 0 0 0 0 0 0]]\n"
     ]
    }
   ],
   "source": [
    "import numpy as np\n",
    "\n",
    "a = [[1, 1, 1, 1, 1, 1, 1, 1],\n",
    "      [1, 1, 1, 1, 1, 1, 1, 1],\n",
    "      [1, 1, 1, 1, 1, 1, 1, 1],\n",
    "      [1, 1, 1, 1, 1, 1, 1, 1],\n",
    "      [1, 1, 1, 1, 1, 1, 1, 1],\n",
    "      [1, 1, 1, 1, 1, 1, 1, 1],\n",
    "      [1, 1, 1, 1, 1, 1, 1, 1],\n",
    "      [1, 1, 1, 1, 1, 1, 1, 1]]\n",
    "A = np.array(a)\n",
    "x = np.triu(A, 1)\n",
    "print(x)"
   ]
  },
  {
   "cell_type": "markdown",
   "metadata": {},
   "source": [
    "## Matrices 3D"
   ]
  },
  {
   "cell_type": "markdown",
   "metadata": {},
   "source": [
    "#### Exercise 1:  \n",
    "Add all the elements in a 2D matrix to 5 and print it."
   ]
  },
  {
   "cell_type": "code",
   "execution_count": 7,
   "metadata": {},
   "outputs": [
    {
     "name": "stdout",
     "output_type": "stream",
     "text": [
      "[[ 6  7  8]\n",
      " [ 9 10 11]\n",
      " [12 13 14]]\n"
     ]
    }
   ],
   "source": [
    "import numpy as np\n",
    "a = [[1, 2, 3],\n",
    "     [4, 5, 6],\n",
    "     [7, 8, 9]]\n",
    "A = np.array(a)\n",
    "n = A.shape[0]\n",
    "m = A.shape[1]\n",
    "\n",
    "# for i in range(n):\n",
    "#     for j in range(m):\n",
    "#         A[i][j] = A[i][j] + 5\n",
    "A = A + 5\n",
    "print(A)"
   ]
  },
  {
   "cell_type": "markdown",
   "metadata": {},
   "source": [
    "#### Exercise 2:  \n",
    "Add all the elements in a 3D matrix to 1 and print it."
   ]
  },
  {
   "cell_type": "code",
   "execution_count": 6,
   "metadata": {},
   "outputs": [
    {
     "name": "stdout",
     "output_type": "stream",
     "text": [
      "[[[ 13  21  31   1   8   7]\n",
      "  [  9  13   3   1   6   4]\n",
      "  [ 35  71  38   5  11  13]\n",
      "  [113 101  26  13   2   4]]\n",
      "\n",
      " [[  3   1   1   1   8   7]\n",
      "  [  9   2   3   1   6   4]\n",
      "  [  5   1   8   5   1   3]\n",
      "  [ 13  11   6  13  10   2]]\n",
      "\n",
      " [[  3   1   1   1   8   7]\n",
      "  [  9   2   3   1   6   4]\n",
      "  [  5   1   8   5   1   3]\n",
      "  [ 13  11   6  13  10   2]]]\n"
     ]
    }
   ],
   "source": [
    "a =[[[ 12,  20, 30,  0,  7,  6],\n",
    "     [  8,  12,  2,  0,  5,  3],\n",
    "     [ 34,  70, 37,  4, 10, 12],\n",
    "     [112, 100, 25, 12,  1,  3]],\n",
    "    [[  2,   0,  0,  0,  7,  6],\n",
    "     [  8,   1,  2,  0,  5,  3],\n",
    "     [  4,   0,  7,  4,  0,  2],\n",
    "     [ 12,  10,  5, 12,  9,  1]],\n",
    "    [[  2,   0,  0,  0,  7,  6],\n",
    "     [  8,   1,  2,  0,  5,  3],\n",
    "     [  4,   0,  7,  4,  0,  2],\n",
    "     [ 12,  10,  5, 12,  9,  1]]]\n",
    "\n",
    "A = np.array(a)\n",
    "n = A.shape[0]\n",
    "m = A.shape[1]\n",
    "k = A.shape[2]\n",
    "\n",
    "# for i in range(n):\n",
    "#     for j in range(m):\n",
    "#         for t in range(k):\n",
    "#             A[i][j][t] = A[i][j][t] + 1\n",
    "\n",
    "A = A + 1\n",
    "print(A)"
   ]
  },
  {
   "cell_type": "markdown",
   "metadata": {},
   "source": [
    "#### Exercise 3:  \n",
    "Perform two numpy 3D Matrices multiplication."
   ]
  },
  {
   "cell_type": "code",
   "execution_count": 9,
   "metadata": {},
   "outputs": [
    {
     "name": "stdout",
     "output_type": "stream",
     "text": [
      "[[[ 75  75  81  69]\n",
      "  [ 30  30  33  27]\n",
      "  [167 167 179 155]\n",
      "  [253 253 256 250]]\n",
      "\n",
      " [[ 15  15  21   9]\n",
      "  [ 19  19  22  16]\n",
      "  [ 17  17  19  15]\n",
      "  [ 49  49  50  48]]]\n"
     ]
    }
   ],
   "source": [
    "a =[[[ 12,  20, 30,  0,  7,  6],\n",
    "     [  8,  12,  2,  0,  5,  3],\n",
    "     [ 34,  70, 37,  4, 10, 12],\n",
    "     [112, 100, 25, 12,  1,  3]],\n",
    "    [[  2,   0,  0,  0,  7,  6],\n",
    "     [  8,   1,  2,  0,  5,  3],\n",
    "     [  4,   0,  7,  4,  0,  2],\n",
    "     [ 12,  10,  5, 12,  9,  1]]]\n",
    "\n",
    "b = [[  1, 1, 1, 1],\n",
    "     [  1, 1, 1, 1],\n",
    "     [  1, 1, 1, 1],\n",
    "     [  1, 1, 1, 1],\n",
    "     [  1, 1, 1, 1],\n",
    "     [  1, 1, 2, 0]]\n",
    "A = np.array(a)\n",
    "B = np.array(b)\n",
    "n = A.shape[0]\n",
    "\n",
    "# for i in range(n):\n",
    "#     C.append(A[i]@B)\n",
    "# C = np.array(C)\n",
    "# C = C.reshape((n,4,4))\n",
    "C = A @ B\n",
    "print(C)"
   ]
  },
  {
   "cell_type": "markdown",
   "metadata": {},
   "source": [
    "#### Exercise 4:  \n",
    "Perform two numpy 3D Matrices broadcasting multiplication."
   ]
  },
  {
   "cell_type": "code",
   "execution_count": 10,
   "metadata": {},
   "outputs": [
    {
     "name": "stdout",
     "output_type": "stream",
     "text": [
      "[[[ 24  40  60   0  14  12]\n",
      "  [ 16  24   4   0  10   6]\n",
      "  [ 68 140  74   8  20  24]\n",
      "  [224 200  50  24   2   6]]\n",
      "\n",
      " [[  4   0   0   0  14  12]\n",
      "  [ 16   2   4   0  10   6]\n",
      "  [  8   0  14   8   0   4]\n",
      "  [ 24  20  10  24  18   2]]]\n"
     ]
    }
   ],
   "source": [
    "a =[[[ 12,  20, 30,  0,  7,  6],\n",
    "     [  8,  12,  2,  0,  5,  3],\n",
    "     [ 34,  70, 37,  4, 10, 12],\n",
    "     [112, 100, 25, 12,  1,  3]],\n",
    "    [[  2,   0,  0,  0,  7,  6],\n",
    "     [  8,   1,  2,  0,  5,  3],\n",
    "     [  4,   0,  7,  4,  0,  2],\n",
    "     [ 12,  10,  5, 12,  9,  1]]]\n",
    "\n",
    "b = [[[2, 2, 2, 2, 2, 2],\n",
    "     [ 2, 2, 2, 2, 2, 2],\n",
    "     [ 2, 2, 2, 2, 2, 2],\n",
    "     [ 2, 2, 2, 2, 2, 2]],\n",
    "    [[ 2, 2, 2, 2, 2, 2],\n",
    "     [ 2, 2, 2, 2, 2, 2],\n",
    "     [ 2, 2, 2, 2, 2, 2],\n",
    "     [ 2, 2, 2, 2, 2, 2]]]\n",
    "\n",
    "A = np.array(a)\n",
    "B = np.array(b)\n",
    "C = []\n",
    "n = A.shape[0]\n",
    "m = A.shape[1]\n",
    "k = A.shape[2]\n",
    "\n",
    "# for i in range(n):\n",
    "#     C.append(A[i]*B[i])\n",
    "# C = np.array(C)\n",
    "# C = C.reshape((n,m,k))\n",
    "\n",
    "C = A * B\n",
    "print(C)"
   ]
  },
  {
   "cell_type": "markdown",
   "metadata": {},
   "source": [
    "#### Exercise 5:  \n",
    "Pad zeros around a 2D matrix"
   ]
  },
  {
   "cell_type": "code",
   "execution_count": 14,
   "metadata": {},
   "outputs": [
    {
     "name": "stdout",
     "output_type": "stream",
     "text": [
      "[[ 0.  0.  0.  0.  0.  0.  0.  0.]\n",
      " [ 0.  2.  0.  0.  0.  7.  6.  0.]\n",
      " [ 0.  8.  1.  2.  0.  5.  3.  0.]\n",
      " [ 0.  4.  0.  7.  4.  0.  2.  0.]\n",
      " [ 0. 12. 10.  5. 12.  9.  1.  0.]\n",
      " [ 0.  0.  0.  0.  0.  0.  0.  0.]]\n"
     ]
    }
   ],
   "source": [
    "a = [[  2,   0,  0,  0,  7,  6],\n",
    "     [  8,   1,  2,  0,  5,  3],\n",
    "     [  4,   0,  7,  4,  0,  2],\n",
    "     [ 12,  10,  5, 12,  9,  1]]\n",
    "\n",
    "A = np.array(a)\n",
    "n = A.shape[0]\n",
    "m = A.shape[1]\n",
    "B = np.zeros((n+2,m+2))\n",
    "n1 = B.shape[0]\n",
    "m1 = B.shape[1]\n",
    "B[1:n1-1,1:m1-1] = A\n",
    "print(B)\n"
   ]
  },
  {
   "cell_type": "markdown",
   "metadata": {},
   "source": [
    "#### Exercise 6:  \n",
    "Calculate the total mean of a 3D matrix"
   ]
  },
  {
   "cell_type": "code",
   "execution_count": 13,
   "metadata": {},
   "outputs": [
    {
     "name": "stdout",
     "output_type": "stream",
     "text": [
      "10.069444444444445\n"
     ]
    }
   ],
   "source": [
    "a =[[[ 12,  20, 30,  0,  7,  6],\n",
    "     [  8,  12,  2,  0,  5,  3],\n",
    "     [ 34,  70, 37,  4, 10, 12],\n",
    "     [112, 100, 25, 12,  1,  3]],\n",
    "    [[  2,   0,  0,  0,  7,  6],\n",
    "     [  8,   1,  2,  0,  5,  3],\n",
    "     [  4,   0,  7,  4,  0,  2],\n",
    "     [ 12,  10,  5, 12,  9,  1]],\n",
    "    [[  2,   0,  0,  0,  7,  6],\n",
    "     [  8,   1,  2,  0,  5,  3],\n",
    "     [  4,   0,  7,  4,  0,  2],\n",
    "     [ 12,  10,  5, 12,  9,  1]]]\n",
    "\n",
    "A = np.array(a)\n",
    "n = A.shape[0]\n",
    "# C = []\n",
    "# for i in range(n):\n",
    "#     C.append(A[i].mean())\n",
    "# C = np.array([C])\n",
    "# C = C.mean()\n",
    "# print(C)\n",
    "\n",
    "A = A.mean()\n",
    "print(A)"
   ]
  },
  {
   "cell_type": "markdown",
   "metadata": {},
   "source": [
    "#### Exercise 7:  \n",
    "Calculate the mean of values for each axis"
   ]
  },
  {
   "cell_type": "code",
   "execution_count": 12,
   "metadata": {},
   "outputs": [
    {
     "name": "stdout",
     "output_type": "stream",
     "text": [
      "[[1. 1. 1.]\n",
      " [2. 2. 2.]\n",
      " [3. 3. 3.]]\n",
      "\n",
      "[[2. 2. 2.]\n",
      " [2. 2. 2.]\n",
      " [2. 2. 2.]]\n",
      "\n",
      "[[1. 2. 3.]\n",
      " [1. 2. 3.]\n",
      " [1. 2. 3.]]\n"
     ]
    }
   ],
   "source": [
    "a = [[[1,1,1],\n",
    " \t  [2,2,2],\n",
    "      [3,3,3]],\n",
    "     [[1,1,1],\n",
    " \t  [2,2,2],\n",
    "      [3,3,3]],\n",
    "     [[1,1,1],\n",
    " \t  [2,2,2],\n",
    "      [3,3,3]]]\n",
    "\n",
    "\n",
    "A = np.array(a)\n",
    "\n",
    "n = A.shape[0]\n",
    "m = A.shape[1]\n",
    "k = A.shape[2]\n",
    "C = np.zeros((m,k))\n",
    "D = []\n",
    "E = []\n",
    "\n",
    "for i in range(n):   # axis = 0\n",
    "    C = C + A[i]\n",
    "C = C / n\n",
    "\n",
    "for i in range(n):   # axis = 1\n",
    "    for j in range(k):\n",
    "        D.append(A[i,0:m,j].sum()/m)\n",
    "D = np.array(D)\n",
    "D = D.reshape((m,k))\n",
    "\n",
    "for i in range(n):   # axis = 2\n",
    "    for j in range(m):\n",
    "        E.append(A[i][j].sum()/k)\n",
    "E = np.array(E)\n",
    "E = E.reshape((m,k))\n",
    "\n",
    "print(C)\n",
    "print()\n",
    "print(D)\n",
    "print()\n",
    "print(E)"
   ]
  },
  {
   "cell_type": "markdown",
   "metadata": {},
   "source": [
    "#### Exercise 8:  \n",
    "Based on Ex7, calculate the followings:\n",
    "```\n",
    "Mean of axes=(0,1):   [2. 2. 2.]\n",
    "Mean of axes=(0,2):   [1. 2. 3.]\n",
    "Mean of axes=(1,2):   [2. 2. 2.]\n",
    "Mean of axes=(0,1,2): 2.0\n",
    "```"
   ]
  },
  {
   "cell_type": "code",
   "execution_count": 11,
   "metadata": {},
   "outputs": [
    {
     "name": "stdout",
     "output_type": "stream",
     "text": [
      "[2. 2. 2.]\n",
      "\n",
      "[1. 2. 3.]\n",
      "\n",
      "[2. 2. 2.]\n"
     ]
    }
   ],
   "source": [
    "a = [[[1,1,1],\n",
    " \t  [2,2,2],\n",
    "      [3,3,3]],\n",
    "     [[1,1,1],\n",
    " \t  [2,2,2],\n",
    "      [3,3,3]],\n",
    "     [[1,1,1],\n",
    " \t  [2,2,2],\n",
    "      [3,3,3]]]\n",
    "\n",
    "A = np.array(a)\n",
    "\n",
    "n = A.shape[0]\n",
    "m = A.shape[1]\n",
    "k = A.shape[2]\n",
    "C = np.zeros((m,k))\n",
    "D = []\n",
    "E = []\n",
    "F = []\n",
    "G = []\n",
    "\n",
    "for i in range(n):   # axis = (0,1)\n",
    "    C = C + A[i]\n",
    "C = C / n\n",
    "for i in range(3):\n",
    "    D.append(C[0:3,i].sum()/n)\n",
    "D = np.array(D)\n",
    "\n",
    "for i in range(3):   # axis = (0,2)\n",
    "    E.append(C[i].sum()/k)\n",
    "E = np.array(E)\n",
    "\n",
    "for i in range(n):   # axis = (1,2)\n",
    "    for j in range(k):\n",
    "        F.append(A[i,0:m,j].sum()/m)\n",
    "F = np.array(F)\n",
    "F = F.reshape((m,k))\n",
    "\n",
    "for i in range(n):\n",
    "        G.append(F[i].sum()/k)\n",
    "G = np.array(G)\n",
    "\n",
    "print(D)\n",
    "print()\n",
    "print(E)\n",
    "print()\n",
    "print(G)\n"
   ]
  },
  {
   "cell_type": "markdown",
   "metadata": {},
   "source": [
    "#### Exercise 9:  \n",
    "Flip vertically the matrix:"
   ]
  },
  {
   "cell_type": "code",
   "execution_count": 15,
   "metadata": {},
   "outputs": [
    {
     "name": "stdout",
     "output_type": "stream",
     "text": [
      "[[3 2 1]\n",
      " [6 5 4]\n",
      " [9 8 7]]\n"
     ]
    }
   ],
   "source": [
    "A = [[1,2,3],\n",
    "  \t [4,5,6],\n",
    "      [7,8,9]]\n",
    "A = np.array(A)\n",
    "C = []\n",
    "for i in range(A.shape[0]):\n",
    "    C.append(A[i][::-1])\n",
    "C = np.array(C)\n",
    "print(C)"
   ]
  },
  {
   "cell_type": "markdown",
   "metadata": {},
   "source": [
    "#### Exercise 10:  \n",
    "Flip horizontally the matrix:"
   ]
  },
  {
   "cell_type": "code",
   "execution_count": 16,
   "metadata": {},
   "outputs": [
    {
     "name": "stdout",
     "output_type": "stream",
     "text": [
      "[[7 8 9]\n",
      " [4 5 6]\n",
      " [1 2 3]]\n"
     ]
    }
   ],
   "source": [
    "A = [[1,2,3],\n",
    " \t [4,5,6],\n",
    "     [7,8,9]]\n",
    "A = np.array(A)\n",
    "A = A[::-1,:]\n",
    "print(A)"
   ]
  }
 ],
 "metadata": {
  "kernelspec": {
   "display_name": "Python 3",
   "language": "python",
   "name": "python3"
  },
  "language_info": {
   "codemirror_mode": {
    "name": "ipython",
    "version": 3
   },
   "file_extension": ".py",
   "mimetype": "text/x-python",
   "name": "python",
   "nbconvert_exporter": "python",
   "pygments_lexer": "ipython3",
   "version": "3.7.0"
  }
 },
 "nbformat": 4,
 "nbformat_minor": 4
}
