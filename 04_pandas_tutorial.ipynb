{
 "cells": [
  {
   "cell_type": "markdown",
   "metadata": {},
   "source": [
    "# Pandas Tutorials"
   ]
  },
  {
   "cell_type": "markdown",
   "metadata": {},
   "source": [
    "---\n",
    "## Part I : Basics"
   ]
  },
  {
   "cell_type": "markdown",
   "metadata": {},
   "source": [
    "### Basics1: Quickstart"
   ]
  },
  {
   "cell_type": "code",
   "execution_count": 1,
   "metadata": {},
   "outputs": [
    {
     "name": "stdout",
     "output_type": "stream",
     "text": [
      "  first_name last_name  age  math  english\n",
      "0       Simo     Sahli   42     4     25.0\n",
      "1        Amy     Cooze   52    24     94.0\n",
      "2        Ali      Baba   36    31     57.0\n",
      "3    Jiarong       Bao   24    70     62.0\n",
      "4      Jacob    Joseph   73     3      NaN\n"
     ]
    }
   ],
   "source": [
    "import numpy as np\n",
    "import pandas as pd\n",
    "\n",
    "# data and labels\n",
    "data = [('Simo'   , 'Sahli' , 42,  4, 25),\n",
    "        ('Amy'    , 'Cooze' , 52, 24, 94), \n",
    "        ('Ali'    , 'Baba'  , 36, 31, 57),\n",
    "        ('Jiarong', 'Bao'   , 24, 70, 62),\n",
    "        ('Jacob'  , 'Joseph', 73,  3, np.nan)]\n",
    "labels= ['first_name','last_name','age','math','english']\n",
    "\n",
    "# pandas dataframe\n",
    "df = pd.DataFrame(data, columns = labels)\n",
    "\n",
    "# Others\n",
    "print(df)"
   ]
  },
  {
   "cell_type": "markdown",
   "metadata": {},
   "source": [
    "### Basics2 : table"
   ]
  },
  {
   "cell_type": "code",
   "execution_count": 3,
   "metadata": {},
   "outputs": [
    {
     "name": "stdout",
     "output_type": "stream",
     "text": [
      "  first_name last_name  age  math  english\n",
      "0       Simo     Sahli   42     4     25.0\n",
      "1        Amy     Cooze   52    24     94.0\n",
      "2        Ali      Baba   36    31     57.0\n",
      "3    Jiarong       Bao   24    70     62.0\n",
      "4      Jacob    Joseph   73     3      NaN\n",
      "\n",
      "False\n",
      "\n",
      "True\n",
      "\n",
      "2\n",
      "\n",
      "25\n",
      "\n",
      "(5, 5)\n",
      "\n",
      "first_name     object\n",
      "last_name      object\n",
      "age             int64\n",
      "math            int64\n",
      "english       float64\n",
      "dtype: object\n"
     ]
    }
   ],
   "source": [
    "import numpy as np\n",
    "import pandas as pd\n",
    "\n",
    "# data and labels\n",
    "data = [('Simo'   , 'Sahli' , 42,  4, 25),\n",
    "        ('Amy'    , 'Cooze' , 52, 24, 94),\n",
    "        ('Ali'    , 'Baba'  , 36, 31, 57),\n",
    "        ('Jiarong', 'Bao'   , 24,  70, 62),\n",
    "        ('Jacob'  , 'Joseph', 73,  3, np.nan)]\n",
    "labels= ['first_name','last_name','age','math','english']\n",
    "\n",
    "# pandas dataframes\n",
    "df = pd.DataFrame(data, columns = labels)\n",
    "B  = pd.DataFrame()\t# an empty dataframe\n",
    "\n",
    "# dealing with tables\n",
    "print(df)\n",
    "print()\n",
    "print(df.empty)\n",
    "print()\n",
    "print(B.empty)\n",
    "print()\n",
    "print(df.ndim)\n",
    "print()\n",
    "print(df.size)\n",
    "print()\n",
    "print(df.shape)\n",
    "print()\n",
    "print(df.dtypes)\n"
   ]
  },
  {
   "cell_type": "markdown",
   "metadata": {},
   "source": [
    "### Basics3 : Rows"
   ]
  },
  {
   "cell_type": "code",
   "execution_count": 2,
   "metadata": {},
   "outputs": [
    {
     "name": "stdout",
     "output_type": "stream",
     "text": [
      "  first_name last_name  age  math  english\n",
      "0       Simo     Sahli   42     4     25.0\n",
      "1        Amy     Cooze   52    24     94.0\n",
      "\n",
      "  first_name last_name  age  math  english\n",
      "0       Simo     Sahli   42     4     25.0\n",
      "1        Amy     Cooze   52    24     94.0\n",
      "2        Ali      Baba   36    31     57.0\n",
      "\n",
      "  first_name last_name  age  math  english\n",
      "2        Ali      Baba   36    31     57.0\n",
      "3    Jiarong       Bao   24    70     62.0\n",
      "\n",
      "  first_name last_name  age  math  english\n",
      "1        Amy     Cooze   52    24     94.0\n",
      "2        Ali      Baba   36    31     57.0\n"
     ]
    }
   ],
   "source": [
    "import numpy as np\n",
    "import pandas as pd\n",
    "\n",
    "# data and labels\n",
    "data = [('Simo'   , 'Sahli' , 42,  4, 25),\n",
    "        ('Amy'    , 'Cooze' , 52, 24, 94),\n",
    "        ('Ali'    , 'Baba'  , 36, 31, 57),\n",
    "        ('Jiarong', 'Bao'   , 24,  70, 62),\n",
    "        ('Jacob'  , 'Joseph', 73,  3, np.nan)]\n",
    "labels= ['first_name','last_name','age','math','english']\n",
    "\n",
    "# pandas dataframes\n",
    "df = pd.DataFrame(data, columns = labels)\n",
    "\n",
    "# Dealing with rows\n",
    "print(df[:2])\n",
    "print()\n",
    "print(df[:-2])\n",
    "print()\n",
    "print(df[2:4])\n",
    "print()\n",
    "print(df[-4:-2])"
   ]
  },
  {
   "cell_type": "markdown",
   "metadata": {},
   "source": [
    "### Basics4 : Columns"
   ]
  },
  {
   "cell_type": "code",
   "execution_count": 4,
   "metadata": {},
   "outputs": [
    {
     "name": "stdout",
     "output_type": "stream",
     "text": [
      "0     Sahli\n",
      "1     Cooze\n",
      "2      Baba\n",
      "3       Bao\n",
      "4    Joseph\n",
      "Name: last_name, dtype: object\n",
      "\n",
      "2      Baba\n",
      "3       Bao\n",
      "4    Joseph\n",
      "Name: last_name, dtype: object\n",
      "\n",
      "3       Bao\n",
      "4    Joseph\n",
      "Name: last_name, dtype: object\n",
      "\n",
      "2    Baba\n",
      "3     Bao\n",
      "Name: last_name, dtype: object\n",
      "\n",
      "1    Cooze\n",
      "2     Baba\n",
      "Name: last_name, dtype: object\n"
     ]
    }
   ],
   "source": [
    "import numpy as np\n",
    "import pandas as pd\n",
    "\n",
    "# data and labels\n",
    "data = [('Simo'   , 'Sahli' , 42,  4, 25),\n",
    "        ('Amy'    , 'Cooze' , 52, 24, 94),\n",
    "        ('Ali'    , 'Baba'  , 36, 31, 57),\n",
    "        ('Jiarong', 'Bao'   , 24,  70, 62),\n",
    "        ('Jacob'  , 'Joseph', 73,  3, np.nan)]\n",
    "labels= ['first_name','last_name','age','math','english']\n",
    "\n",
    "# pandas dataframes\n",
    "df = pd.DataFrame(data, columns = labels)\n",
    "\n",
    "\n",
    "# Dealing with columns\n",
    "print(df['last_name'])\n",
    "print()\n",
    "print(df['last_name'][2:])\n",
    "print()\n",
    "print(df['last_name'][-2:])\n",
    "print()\n",
    "print(df['last_name'][2:4])\n",
    "print()\n",
    "print(df['last_name'][-4:-2])\n"
   ]
  },
  {
   "cell_type": "markdown",
   "metadata": {},
   "source": [
    "### Basics5 : Items"
   ]
  },
  {
   "cell_type": "code",
   "execution_count": 5,
   "metadata": {},
   "outputs": [
    {
     "name": "stdout",
     "output_type": "stream",
     "text": [
      "42\n",
      "\n",
      "24\n",
      "\n",
      "24\n",
      "\n",
      "73\n",
      "\n",
      "45.4\n",
      "\n",
      "227\n"
     ]
    }
   ],
   "source": [
    "import numpy as np\n",
    "import pandas as pd\n",
    "\n",
    "# data and labels\n",
    "data = [('Simo'   , 'Sahli' , 42,  4, 25),\n",
    "        ('Amy'    , 'Cooze' , 52, 24, 94),\n",
    "        ('Ali'    , 'Baba'  , 36, 31, 57),\n",
    "        ('Jiarong', 'Bao'   , 24,  70, 62),\n",
    "        ('Jacob'  , 'Joseph', 73,  3, np.nan)]\n",
    "labels= ['first_name','last_name','age','math','english']\n",
    "\n",
    "# pandas dataframes\n",
    "df = pd.DataFrame(data, columns = labels)\n",
    "\n",
    "\n",
    "# Dealing with items\n",
    "print(df['age'][0])\n",
    "print()\n",
    "print(df['age'][3])\n",
    "print()\n",
    "print(df['age'].min())\n",
    "print()\n",
    "print(df['age'].max())\n",
    "print()\n",
    "print(df['age'].mean())\n",
    "print()\n",
    "print(df['age'].sum())\n"
   ]
  },
  {
   "cell_type": "markdown",
   "metadata": {},
   "source": [
    "---\n",
    "## Part II : Tables"
   ]
  },
  {
   "cell_type": "code",
   "execution_count": 6,
   "metadata": {},
   "outputs": [
    {
     "name": "stdout",
     "output_type": "stream",
     "text": [
      "[['Simo' 'Sahli' 42 4 25.0]\n",
      " ['Amy' 'Cooze' 52 24 94.0]\n",
      " ['Ali' 'Baba' 36 31 57.0]\n",
      " ['Jiarong' 'Bao' 24 70 62.0]\n",
      " ['Jacob' 'Joseph' 73 3 nan]]\n",
      "\n",
      "  first_name last_name  age  math  english\n",
      "0       Simo     Sahli   42     4     25.0\n",
      "1        Amy     Cooze   52    24     94.0\n",
      "\n",
      "  first_name last_name  age  math  english\n",
      "3    Jiarong       Bao   24    70     62.0\n",
      "4      Jacob    Joseph   73     3      NaN\n",
      "\n",
      "                0      1     2        3       4\n",
      "first_name   Simo    Amy   Ali  Jiarong   Jacob\n",
      "last_name   Sahli  Cooze  Baba      Bao  Joseph\n",
      "age            42     52    36       24      73\n",
      "math            4     24    31       70       3\n",
      "english        25     94    57       62     NaN\n"
     ]
    }
   ],
   "source": [
    "import numpy as np\n",
    "import pandas as pd\n",
    "\n",
    "# data and labels and pandas dataframes\n",
    "data = [('Simo'   , 'Sahli' , 42,  4, 25),\n",
    "        ('Amy'    , 'Cooze' , 52, 24, 94),\n",
    "        ('Ali'    , 'Baba'  , 36, 31, 57),\n",
    "        ('Jiarong', 'Bao'   , 24,  70, 62),\n",
    "        ('Jacob'  , 'Joseph', 73,  3, np.nan)]\n",
    "labels = ['first_name','last_name','age','math','english']\n",
    "\n",
    "df = pd.DataFrame(data, columns = labels)\n",
    "\n",
    "\n",
    "# Tables\n",
    "print(df.values)\t# convert Table to a Matrix\n",
    "print()\n",
    "print(df.head(2))\n",
    "print()\n",
    "print(df.tail(2))\n",
    "print()\n",
    "B = df.T\t\t\t# transpose of the table\n",
    "print(B)\n"
   ]
  },
  {
   "cell_type": "code",
   "execution_count": 6,
   "metadata": {},
   "outputs": [
    {
     "name": "stdout",
     "output_type": "stream",
     "text": [
      "  first_name last_name  age  math  english\n",
      "0       Simo     Sahli   42     4     25.0\n",
      "1        Amy     Cooze   52    24     94.0\n",
      "2        Ali      Baba   36    31     57.0\n",
      "3    Jiarong       Bao   24    70     62.0\n",
      "4      Jacob    Joseph   73     3      NaN\n",
      "\n",
      "  first_name last_name  age  math  english\n",
      "0       koko      kaka   27    90       15\n",
      "1       bobo      baba   25    14       97\n",
      "\n",
      "  first_name last_name  age  math  english\n",
      "0       Simo     Sahli   42     4     25.0\n",
      "1        Amy     Cooze   52    24     94.0\n",
      "2        Ali      Baba   36    31     57.0\n",
      "3    Jiarong       Bao   24    70     62.0\n",
      "4      Jacob    Joseph   73     3      NaN\n",
      "0       koko      kaka   27    90     15.0\n",
      "1       bobo      baba   25    14     97.0\n"
     ]
    }
   ],
   "source": [
    "import numpy as np\n",
    "import pandas as pd\n",
    "\n",
    "# data and labels and pandas dataframes\n",
    "data = [('Simo'   , 'Sahli' , 42,  4, 25),\n",
    "        ('Amy'    , 'Cooze' , 52, 24, 94),\n",
    "        ('Ali'    , 'Baba'  , 36, 31, 57),\n",
    "        ('Jiarong', 'Bao'   , 24,  70, 62),\n",
    "        ('Jacob'  , 'Joseph', 73,  3, np.nan)]\n",
    "labels = ['first_name','last_name','age','math','english']\n",
    "\n",
    "data2 = [('koko', 'kaka' , 27, 90, 15),\n",
    "         ('bobo', 'baba' , 25, 14, 97)]\n",
    "df = pd.DataFrame(data, columns = labels)\n",
    "df2= pd.DataFrame(data2, columns = labels)\n",
    "\n",
    "# Tables Concatenation\n",
    "print(df)\n",
    "print()\n",
    "print(df2)\n",
    "df = df.append(df2)\n",
    "print()\n",
    "print(df)\n"
   ]
  },
  {
   "cell_type": "markdown",
   "metadata": {},
   "source": [
    "---\n",
    "## Part III : Columns"
   ]
  },
  {
   "cell_type": "code",
   "execution_count": 7,
   "metadata": {},
   "outputs": [
    {
     "name": "stdout",
     "output_type": "stream",
     "text": [
      "['Sahli' 'Cooze' 'Baba' 'Bao' 'Joseph']\n",
      "\n",
      "  first_name last_name  age  math  english  score\n",
      "0       Simo     Sahli   42     4     25.0   14.5\n",
      "1        Amy     Cooze   52    24     94.0   59.0\n",
      "2        Ali      Baba   36    31     57.0   44.0\n",
      "3    Jiarong       Bao   24    70     62.0   66.0\n",
      "4      Jacob    Joseph   73     3      NaN    NaN\n",
      "\n",
      "  first_name last_name  age  math  english\n",
      "0       Simo     Sahli   42     4     25.0\n",
      "1        Amy     Cooze   52    24     94.0\n",
      "2        Ali      Baba   36    31     57.0\n",
      "3    Jiarong       Bao   24    70     62.0\n",
      "4      Jacob    Joseph   73     3      NaN\n"
     ]
    }
   ],
   "source": [
    "import numpy as np\n",
    "import pandas as pd\n",
    "\n",
    "# data and labels and pandas dataframes\n",
    "data = [('Simo'   , 'Sahli' , 42,  4, 25),\n",
    "        ('Amy'    , 'Cooze' , 52, 24, 94),\n",
    "        ('Ali'    , 'Baba'  , 36, 31, 57),\n",
    "        ('Jiarong', 'Bao'   , 24,  70, 62),\n",
    "        ('Jacob'  , 'Joseph', 73,  3, np.nan)]\n",
    "labels = ['first_name','last_name','age','math','english']\n",
    "df = pd.DataFrame(data, columns = labels)\n",
    "\n",
    "# Columns: Column to an array\n",
    "print(df['last_name'].values)\n",
    "print()\n",
    "# Columns: Addition and Deletion\n",
    "df['score'] = (df['math'] + df['english']) / 2.0\n",
    "print(df)\n",
    "print()\n",
    "# del df['score']\n",
    "df.pop('score') # the same as del df['score']\n",
    "print(df)\n"
   ]
  },
  {
   "cell_type": "code",
   "execution_count": 15,
   "metadata": {},
   "outputs": [
    {
     "name": "stdout",
     "output_type": "stream",
     "text": [
      "  first_name last_name  age  math  english\n",
      "4      Jacob    Joseph   73     3      NaN\n",
      "0       Simo     Sahli   42     4     25.0\n",
      "1       Simo      Koko   52    24     94.0\n",
      "2        Ali      Baba   36    31     57.0\n",
      "3    Jiarong       Bao   24    70     62.0\n",
      "--------------\n",
      "  first_name last_name  age  math  english\n",
      "2        Ali      Baba   36    31     57.0\n",
      "4      Jacob    Joseph   73     3      NaN\n",
      "3    Jiarong       Bao   24    70     62.0\n",
      "1       Simo      Koko   52    24     94.0\n",
      "0       Simo     Sahli   42     4     25.0\n",
      "--------------\n"
     ]
    }
   ],
   "source": [
    "import numpy as np\n",
    "import pandas as pd\n",
    "\n",
    "# data and labels and pandas dataframe\n",
    "data = [('Simo'   , 'Sahli' , 42,  4, 25),\n",
    "        ('Simo'   , 'Koko' , 52, 24, 94),\n",
    "        ('Ali'    , 'Baba'  , 36, 31, 57),\n",
    "        ('Jiarong', 'Bao'   , 24,  70, 62),\n",
    "        ('Jacob'  , 'Joseph', 73,  3, np.nan)]\n",
    "labels = ['first_name','last_name','age','math','english']\n",
    "df = pd.DataFrame(data, columns = labels)\n",
    "\n",
    "# Columns: Sorting by values\n",
    "df = df.sort_values(by='math')\n",
    "print(df)\n",
    "print(\"--------------\")\n",
    "df = df.sort_values(by=['first_name','last_name'])\n",
    "print(df)\n",
    "print(\"--------------\")\n"
   ]
  },
  {
   "cell_type": "code",
   "execution_count": 16,
   "metadata": {},
   "outputs": [
    {
     "name": "stdout",
     "output_type": "stream",
     "text": [
      "  first_name last_name  age  math  english\n",
      "4      Jacob    Joseph   73     3      NaN\n",
      "3    Jiarong       Bao   24    70     62.0\n",
      "2        Ali      Baba   36    31     57.0\n",
      "1        Amy     Cooze   52    24     94.0\n",
      "0       Simo     Sahli   42     4     25.0\n",
      "--------------\n",
      "  first_name last_name  age  math  english\n",
      "0       Simo     Sahli   42     4     25.0\n",
      "1        Amy     Cooze   52    24     94.0\n",
      "2        Ali      Baba   36    31     57.0\n",
      "3    Jiarong       Bao   24    70     62.0\n",
      "4      Jacob    Joseph   73     3      NaN\n",
      "--------------\n",
      "   age  english first_name last_name  math\n",
      "0   42     25.0       Simo     Sahli     4\n",
      "1   52     94.0        Amy     Cooze    24\n",
      "2   36     57.0        Ali      Baba    31\n",
      "3   24     62.0    Jiarong       Bao    70\n",
      "4   73      NaN      Jacob    Joseph     3\n",
      "--------------\n"
     ]
    }
   ],
   "source": [
    "import numpy as np\n",
    "import pandas as pd\n",
    "\n",
    "# data and labels and pandas dataframe\n",
    "data = [('Simo'   , 'Sahli' , 42,  4, 25),\n",
    "        ('Amy'    , 'Cooze' , 52, 24, 94),\n",
    "        ('Ali'    , 'Baba'  , 36, 31, 57),\n",
    "        ('Jiarong', 'Bao'   , 24,  70, 62),\n",
    "        ('Jacob'  , 'Joseph', 73,  3, np.nan)]\n",
    "labels = ['first_name','last_name','age','math','english']\n",
    "df = pd.DataFrame(data, columns = labels)\n",
    "\n",
    "# Columns: Sorting by index\n",
    "df = df.sort_index(ascending=False)\n",
    "print(df)\n",
    "print(\"--------------\")\n",
    "df = df.sort_index(axis=0)\n",
    "print(df)\n",
    "print(\"--------------\")\n",
    "df = df.sort_index(axis=1)\n",
    "print(df)\n",
    "print(\"--------------\")\n"
   ]
  },
  {
   "cell_type": "markdown",
   "metadata": {},
   "source": [
    "---\n",
    "## Part IV : Rows"
   ]
  },
  {
   "cell_type": "code",
   "execution_count": 8,
   "metadata": {},
   "outputs": [
    {
     "name": "stdout",
     "output_type": "stream",
     "text": [
      "[['Amy' 'Cooze' 52 24 94.0]\n",
      " ['Ali' 'Baba' 36 31 57.0]]\n",
      "\n",
      "first_name     Ali\n",
      "last_name     Baba\n",
      "age             36\n",
      "math            31\n",
      "english         57\n",
      "Name: 2, dtype: object\n",
      "\n",
      "first_name     Ali\n",
      "last_name     Baba\n",
      "age             36\n",
      "math            31\n",
      "english         57\n",
      "Name: 2, dtype: object\n",
      "\n",
      "['Ali' 'Baba' 36 31 57.0]\n",
      "\n",
      "  first_name last_name  age  math  english\n",
      "0       Simo     Sahli   42     4     25.0\n",
      "1        Amy     Cooze   52    24     94.0\n",
      "3    Jiarong       Bao   24    70     62.0\n",
      "4      Jacob    Joseph   73     3      NaN\n"
     ]
    }
   ],
   "source": [
    "import numpy as np\n",
    "import pandas as pd\n",
    "\n",
    "# data and labels and pandas dataframe\n",
    "#....\n",
    "\n",
    "\n",
    "# Rows:\n",
    "print(df[-4:-2].values)\n",
    "print()\n",
    "print(df.iloc[2])\n",
    "print()\n",
    "print(df.loc[2])\n",
    "print()\n",
    "print(df.loc[2].values)\n",
    "print()\n",
    "df = df.drop(2) # deleting row at index 2\n",
    "print(df)\n"
   ]
  },
  {
   "cell_type": "markdown",
   "metadata": {},
   "source": [
    "---\n",
    "## Part V : Loops"
   ]
  },
  {
   "cell_type": "code",
   "execution_count": 11,
   "metadata": {},
   "outputs": [
    {
     "name": "stdout",
     "output_type": "stream",
     "text": [
      "first_name\n",
      "\n",
      "0       Simo\n",
      "1        Amy\n",
      "3    Jiarong\n",
      "4      Jacob\n",
      "Name: first_name, dtype: object\n",
      "last_name\n",
      "\n",
      "0     Sahli\n",
      "1     Cooze\n",
      "3       Bao\n",
      "4    Joseph\n",
      "Name: last_name, dtype: object\n",
      "age\n",
      "\n",
      "0    42\n",
      "1    52\n",
      "3    24\n",
      "4    73\n",
      "Name: age, dtype: int64\n",
      "math\n",
      "\n",
      "0     4\n",
      "1    24\n",
      "3    70\n",
      "4     3\n",
      "Name: math, dtype: int64\n",
      "english\n",
      "\n",
      "0    25.0\n",
      "1    94.0\n",
      "3    62.0\n",
      "4     NaN\n",
      "Name: english, dtype: float64\n",
      "0\n",
      "\n",
      "first_name     Simo\n",
      "last_name     Sahli\n",
      "age              42\n",
      "math              4\n",
      "english          25\n",
      "Name: 0, dtype: object\n",
      "1\n",
      "\n",
      "first_name      Amy\n",
      "last_name     Cooze\n",
      "age              52\n",
      "math             24\n",
      "english          94\n",
      "Name: 1, dtype: object\n",
      "3\n",
      "\n",
      "first_name    Jiarong\n",
      "last_name         Bao\n",
      "age                24\n",
      "math               70\n",
      "english            62\n",
      "Name: 3, dtype: object\n",
      "4\n",
      "\n",
      "first_name     Jacob\n",
      "last_name     Joseph\n",
      "age               73\n",
      "math               3\n",
      "english          NaN\n",
      "Name: 4, dtype: object\n"
     ]
    }
   ],
   "source": [
    "import numpy as np\n",
    "import pandas as pd\n",
    "\n",
    "# data and labels and pandas dataframe\n",
    "#....\n",
    "\n",
    "# Loop for columns:\n",
    "for a,b in df.iteritems():\n",
    "   print(a)\n",
    "   print()\n",
    "   print(b)\n",
    "\n",
    "\n",
    "# Loop for rows:\n",
    "for a,b in df.iterrows():\n",
    "   print(a)\n",
    "   print()\n",
    "   print(b)\n"
   ]
  },
  {
   "cell_type": "markdown",
   "metadata": {},
   "source": [
    "---\n",
    "## Part VI: Files"
   ]
  },
  {
   "cell_type": "markdown",
   "metadata": {},
   "source": [
    "### Read CSV 1/2"
   ]
  },
  {
   "cell_type": "code",
   "execution_count": 38,
   "metadata": {},
   "outputs": [
    {
     "name": "stdout",
     "output_type": "stream",
     "text": [
      "  first_name last_name  age  math  english\n",
      "0       Simo     Sahli   42     4     25.0\n",
      "1        Amy     Cooze   52    24     94.0\n",
      "2        Ali      Baba   36    31     57.0\n",
      "3    Jiarong       Bao   24    70     62.0\n",
      "4      Jacob    Joseph   73     3      NaN\n"
     ]
    }
   ],
   "source": [
    "import numpy as np\n",
    "import pandas as pd\n",
    "\n",
    "labels= ['first_name','last_name','age','math','english']\n",
    "\n",
    "df = pd.read_csv(\"datas/test.csv\",sep=',',header=None)\n",
    "df.columns = labels\n",
    "print(df)\n"
   ]
  },
  {
   "cell_type": "markdown",
   "metadata": {},
   "source": [
    "### Read CSV 2/2"
   ]
  },
  {
   "cell_type": "code",
   "execution_count": 39,
   "metadata": {},
   "outputs": [
    {
     "name": "stdout",
     "output_type": "stream",
     "text": [
      "      Simo   Sahli  42   4    25\n",
      "0      Amy   Cooze  52  24  94.0\n",
      "1      Ali    Baba  36  31  57.0\n",
      "2  Jiarong     Bao  24  70  62.0\n",
      "3    Jacob  Joseph  73   3   NaN\n"
     ]
    }
   ],
   "source": [
    "import numpy as np\n",
    "import pandas as pd\n",
    "\n",
    "df = pd.read_csv(\"datas/test.csv\",sep=',',header=0)\n",
    "print(df)\n"
   ]
  },
  {
   "cell_type": "markdown",
   "metadata": {},
   "source": [
    "### Write to CSV"
   ]
  },
  {
   "cell_type": "code",
   "execution_count": 14,
   "metadata": {},
   "outputs": [],
   "source": [
    "import numpy as np\n",
    "import pandas as pd\n",
    "\n",
    "df = pd.read_csv(\"datas/test.csv\",sep=',',header=0)\n",
    "df = df.drop(2)\n",
    "\n",
    "df.to_csv(\"datas/test3.csv\", encoding='utf-8', index=False)\n"
   ]
  },
  {
   "cell_type": "markdown",
   "metadata": {},
   "source": [
    "---\n",
    "## Part VII : Lambda"
   ]
  },
  {
   "cell_type": "markdown",
   "metadata": {},
   "source": [
    "### lambda 1/2"
   ]
  },
  {
   "cell_type": "code",
   "execution_count": 15,
   "metadata": {},
   "outputs": [
    {
     "name": "stdout",
     "output_type": "stream",
     "text": [
      "7\n",
      "\n",
      "7\n"
     ]
    }
   ],
   "source": [
    "def my_sum(a,b):\n",
    "\treturn a + b\n",
    "\n",
    "s = lambda x, y : x + y\n",
    "\n",
    "print(my_sum(5,2)) \n",
    "print()\n",
    "print(s(5,2)) \n"
   ]
  },
  {
   "cell_type": "markdown",
   "metadata": {},
   "source": [
    "### lambda 2/2"
   ]
  },
  {
   "cell_type": "code",
   "execution_count": 16,
   "metadata": {},
   "outputs": [
    {
     "name": "stdout",
     "output_type": "stream",
     "text": [
      "10\n",
      "\n",
      "22\n",
      "\n",
      "15\n",
      "\n",
      "33\n"
     ]
    }
   ],
   "source": [
    "def myfunc(n):\n",
    "  return lambda a : a * n\n",
    "\n",
    "mydoubler = myfunc(2)\n",
    "mytripler = myfunc(3)\n",
    "\n",
    "print(mydoubler(5))\n",
    "print()\n",
    "print(mydoubler(11))\n",
    "print()\n",
    "print(mytripler(5))\n",
    "print()\n",
    "print(mytripler(11))\n"
   ]
  },
  {
   "cell_type": "markdown",
   "metadata": {},
   "source": [
    "---\n",
    "## Part VIII : Groupby"
   ]
  },
  {
   "cell_type": "code",
   "execution_count": 41,
   "metadata": {},
   "outputs": [
    {
     "name": "stdout",
     "output_type": "stream",
     "text": [
      "    Points  Rank    Team  Year\n",
      "0      876     1  Riders  2014\n",
      "1      789     2  Riders  2015\n",
      "2      863     2  Devils  2014\n",
      "3      673     3  Devils  2015\n",
      "4      741     3   Kings  2014\n",
      "5      812     4   Kings  2015\n",
      "6      756     1   Kings  2016\n",
      "7      788     1   Kings  2017\n",
      "8      694     2  Riders  2016\n",
      "9      701     4  Royals  2014\n",
      "10     804     1  Royals  2015\n",
      "11     690     2  Riders  2017\n",
      "--------------------\n",
      "<class 'dict'>\n",
      "<class 'dict'>\n",
      "--------------------\n",
      "Devils \t [2, 3]\n",
      "Kings \t [4, 5, 6, 7]\n",
      "Riders \t [0, 1, 8, 11]\n",
      "Royals \t [9, 10]\n"
     ]
    }
   ],
   "source": [
    "import numpy as np\n",
    "import pandas as pd\n",
    "\n",
    "df = pd.read_csv(\"datas/ranks.csv\", sep=' ', header=0)\n",
    "\n",
    "\n",
    "print(df)\n",
    "print(\"--------------------\")\n",
    "\n",
    "\n",
    "a = df.groupby('Team')\n",
    "b = df.groupby(['Team','Year'])\n",
    "print(type(a.groups))\n",
    "print(type(b.groups))\n",
    "\n",
    "print(\"--------------------\")\n",
    "for x,y in a.groups.items():\n",
    "    print(x,\"\\t\",list(y))\n"
   ]
  },
  {
   "cell_type": "markdown",
   "metadata": {},
   "source": [
    "### Groupby: Select"
   ]
  },
  {
   "cell_type": "code",
   "execution_count": 18,
   "metadata": {},
   "outputs": [
    {
     "name": "stdout",
     "output_type": "stream",
     "text": [
      "    Points  Rank    Team  Year\n",
      "0      876     1  Riders  2014\n",
      "1      789     2  Riders  2015\n",
      "2      863     2  Devils  2014\n",
      "3      673     3  Devils  2015\n",
      "4      741     3   Kings  2014\n",
      "5      812     4   Kings  2015\n",
      "6      756     1   Kings  2016\n",
      "7      788     1   Kings  2017\n",
      "8      694     2  Riders  2016\n",
      "9      701     4  Royals  2014\n",
      "10     804     1  Royals  2015\n",
      "11     690     2  Riders  2017\n",
      "--------------------\n",
      "   Points  Rank    Team  Year\n",
      "0     876     1  Riders  2014\n",
      "2     863     2  Devils  2014\n",
      "4     741     3   Kings  2014\n",
      "9     701     4  Royals  2014\n",
      "--------------------\n",
      "   Points  Rank    Team  Year\n",
      "0     876     1  Riders  2014\n"
     ]
    }
   ],
   "source": [
    "import numpy as np\n",
    "import pandas as pd\n",
    "\n",
    "df = pd.read_csv(\"datas/ranks.csv\", sep=' ', header=0)\n",
    "\n",
    "\n",
    "print(df)\n",
    "print(\"--------------------\")\n",
    "\n",
    "\n",
    "a = df.groupby('Year')\n",
    "print(a.get_group(2014))\n",
    "print(\"--------------------\")\n",
    "a = df.groupby(['Team','Year'])\n",
    "print(a.get_group(('Riders',2014)))\n"
   ]
  },
  {
   "cell_type": "markdown",
   "metadata": {},
   "source": [
    "### Groupby: Aggregation"
   ]
  },
  {
   "cell_type": "code",
   "execution_count": 43,
   "metadata": {},
   "outputs": [
    {
     "name": "stdout",
     "output_type": "stream",
     "text": [
      "    Points  Rank    Team  Year\n",
      "0      876     1  Riders  2014\n",
      "1      789     2  Riders  2015\n",
      "2      863     2  Devils  2014\n",
      "3      673     3  Devils  2015\n",
      "4      741     3   Kings  2014\n",
      "5      812     4   Kings  2015\n",
      "6      756     1   Kings  2016\n",
      "7      788     1   Kings  2017\n",
      "8      694     2  Riders  2016\n",
      "9      701     4  Royals  2014\n",
      "10     804     1  Royals  2015\n",
      "11     690     2  Riders  2017\n",
      "--------------------\n",
      "Year\n",
      "2014    795.25\n",
      "2015    769.50\n",
      "2016    725.00\n",
      "2017    739.00\n",
      "Name: Points, dtype: float64\n",
      "\n",
      "Year\n",
      "2014    3181\n",
      "2015    3078\n",
      "2016    1450\n",
      "2017    1478\n",
      "Name: Points, dtype: int64\n",
      "\n",
      "Year\n",
      "2014    4\n",
      "2015    4\n",
      "2016    2\n",
      "2017    2\n",
      "Name: Points, dtype: int64\n",
      "\n",
      "       sum    mean        std\n",
      "Year                         \n",
      "2014  3181  795.25  87.439026\n",
      "2015  3078  769.50  65.035888\n",
      "2016  1450  725.00  43.840620\n",
      "2017  1478  739.00  69.296465\n"
     ]
    }
   ],
   "source": [
    "import numpy as np\n",
    "import pandas as pd\n",
    "\n",
    "df = pd.read_csv(\"datas/ranks.csv\", sep=' ', header=0)\n",
    "\n",
    "\n",
    "print(df)\n",
    "print(\"--------------------\")\n",
    "\n",
    "\n",
    "a = df.groupby('Year')\n",
    "print(a['Points'].agg(np.mean))\n",
    "print()\n",
    "print(a['Points'].agg(np.sum))\n",
    "print()\n",
    "print(a['Points'].agg(np.size))\n",
    "print()\n",
    "print(a['Points'].agg([np.sum, np.mean, np.std]))\n"
   ]
  },
  {
   "cell_type": "markdown",
   "metadata": {},
   "source": [
    "### Groupby: Filtering"
   ]
  },
  {
   "cell_type": "code",
   "execution_count": 44,
   "metadata": {},
   "outputs": [
    {
     "name": "stdout",
     "output_type": "stream",
     "text": [
      "    Points  Rank    Team  Year\n",
      "0      876     1  Riders  2014\n",
      "1      789     2  Riders  2015\n",
      "2      863     2  Devils  2014\n",
      "3      673     3  Devils  2015\n",
      "4      741     3   Kings  2014\n",
      "5      812     4   Kings  2015\n",
      "6      756     1   Kings  2016\n",
      "7      788     1   Kings  2017\n",
      "8      694     2  Riders  2016\n",
      "9      701     4  Royals  2014\n",
      "10     804     1  Royals  2015\n",
      "11     690     2  Riders  2017\n",
      "--------------------\n",
      "    Points  Rank    Team  Year\n",
      "0      876     1  Riders  2014\n",
      "1      789     2  Riders  2015\n",
      "4      741     3   Kings  2014\n",
      "5      812     4   Kings  2015\n",
      "6      756     1   Kings  2016\n",
      "7      788     1   Kings  2017\n",
      "8      694     2  Riders  2016\n",
      "11     690     2  Riders  2017\n"
     ]
    }
   ],
   "source": [
    "import numpy as np\n",
    "import pandas as pd\n",
    "\n",
    "df = pd.read_csv(\"datas/ranks.csv\", sep=' ', header=0)\n",
    "\n",
    "\n",
    "print(df)\n",
    "print(\"--------------------\")\n",
    "\n",
    "\n",
    "a = df.groupby('Team')\n",
    "f = lambda x: len(x) >= 3\n",
    "print(a.filter(f))\n"
   ]
  },
  {
   "cell_type": "markdown",
   "metadata": {},
   "source": [
    "---\n",
    "## Part Ⅸ : Merging/Joining"
   ]
  },
  {
   "cell_type": "code",
   "execution_count": 45,
   "metadata": {},
   "outputs": [
    {
     "name": "stdout",
     "output_type": "stream",
     "text": [
      "     Name  id subject\n",
      "0    Alex   1    sub1\n",
      "1     Amy   2    sub2\n",
      "2   Allen   3    sub4\n",
      "3   Alice   4    sub6\n",
      "4  Ayoung   5    sub5 \n",
      "--------------------\n",
      "    Name  id subject\n",
      "0  Billy   1    sub2\n",
      "1  Brian   2    sub4\n",
      "2   Bran   3    sub3\n",
      "3  Bryce   4    sub6\n",
      "4  Betty   5    sub5 \n",
      "--------------------\n",
      "   Name_x  id subject_x Name_y subject_y\n",
      "0    Alex   1      sub1  Billy      sub2\n",
      "1     Amy   2      sub2  Brian      sub4\n",
      "2   Allen   3      sub4   Bran      sub3\n",
      "3   Alice   4      sub6  Bryce      sub6\n",
      "4  Ayoung   5      sub5  Betty      sub5 \n",
      "--------------------\n",
      "   Name_x  id subject Name_y\n",
      "0   Alice   4    sub6  Bryce\n",
      "1  Ayoung   5    sub5  Betty \n",
      "--------------------\n",
      "   Name_x  id_x subject Name_y  id_y\n",
      "0    Alex     1    sub1    NaN   NaN\n",
      "1     Amy     2    sub2  Billy   1.0\n",
      "2   Allen     3    sub4  Brian   2.0\n",
      "3   Alice     4    sub6  Bryce   4.0\n",
      "4  Ayoung     5    sub5  Betty   5.0 \n",
      "--------------------\n",
      "   Name_x  id_x subject Name_y  id_y\n",
      "0     Amy   2.0    sub2  Billy     1\n",
      "1   Allen   3.0    sub4  Brian     2\n",
      "2   Alice   4.0    sub6  Bryce     4\n",
      "3  Ayoung   5.0    sub5  Betty     5\n",
      "4     NaN   NaN    sub3   Bran     3 \n",
      "--------------------\n",
      "   Name_x  id_x subject Name_y  id_y\n",
      "0     Amy     2    sub2  Billy     1\n",
      "1   Allen     3    sub4  Brian     2\n",
      "2   Alice     4    sub6  Bryce     4\n",
      "3  Ayoung     5    sub5  Betty     5 \n",
      "--------------------\n",
      "   Name_x  id_x subject Name_y  id_y\n",
      "0    Alex   1.0    sub1    NaN   NaN\n",
      "1     Amy   2.0    sub2  Billy   1.0\n",
      "2   Allen   3.0    sub4  Brian   2.0\n",
      "3   Alice   4.0    sub6  Bryce   4.0\n",
      "4  Ayoung   5.0    sub5  Betty   5.0\n",
      "5     NaN   NaN    sub3   Bran   3.0 \n",
      "--------------------\n"
     ]
    }
   ],
   "source": [
    "import numpy as np\n",
    "import pandas as pd\n",
    "\n",
    "df1= pd.read_csv(\"datas/A.csv\", sep=';', header=0)\n",
    "df2= pd.read_csv(\"datas/B.csv\", sep=';', header=0)\n",
    "print(df1,\"\\n--------------------\")\n",
    "print(df2,\"\\n--------------------\")\n",
    "\n",
    "df = pd.merge(df1,df2,on='id')\n",
    "print(df,\"\\n--------------------\")\n",
    "df = pd.merge(df1,df2,on=['id','subject'])\n",
    "print(df,\"\\n--------------------\")\n",
    "\n",
    "df=pd.merge(df1, df2, on='subject', how='left')\n",
    "print(df,\"\\n--------------------\")\n",
    "df=pd.merge(df1, df2, on='subject', how='right')\n",
    "print(df,\"\\n--------------------\")\n",
    "df=pd.merge(df1, df2, on='subject', how='inner')\n",
    "print(df,\"\\n--------------------\")\n",
    "df=pd.merge(df1, df2, on='subject', how='outer')\n",
    "print(df,\"\\n--------------------\")\n"
   ]
  },
  {
   "cell_type": "markdown",
   "metadata": {},
   "source": [
    "## Part X : Concatenation"
   ]
  },
  {
   "cell_type": "code",
   "execution_count": 46,
   "metadata": {},
   "outputs": [
    {
     "name": "stdout",
     "output_type": "stream",
     "text": [
      "     Name  id subject\n",
      "0    Alex   1    sub1\n",
      "1     Amy   2    sub2\n",
      "2   Allen   3    sub4\n",
      "3   Alice   4    sub6\n",
      "4  Ayoung   5    sub5 \n",
      "--------------------\n",
      "    Name  id subject\n",
      "0  Billy   1    sub2\n",
      "1  Brian   2    sub4\n",
      "2   Bran   3    sub3\n",
      "3  Bryce   4    sub6\n",
      "4  Betty   5    sub5 \n",
      "--------------------\n",
      "     Name  id subject\n",
      "0    Alex   1    sub1\n",
      "1     Amy   2    sub2\n",
      "2   Allen   3    sub4\n",
      "3   Alice   4    sub6\n",
      "4  Ayoung   5    sub5\n",
      "0   Billy   1    sub2\n",
      "1   Brian   2    sub4\n",
      "2    Bran   3    sub3\n",
      "3   Bryce   4    sub6\n",
      "4   Betty   5    sub5 \n",
      "--------------------\n",
      "     Name  id subject\n",
      "0    Alex   1    sub1\n",
      "1     Amy   2    sub2\n",
      "2   Allen   3    sub4\n",
      "3   Alice   4    sub6\n",
      "4  Ayoung   5    sub5\n",
      "5   Billy   1    sub2\n",
      "6   Brian   2    sub4\n",
      "7    Bran   3    sub3\n",
      "8   Bryce   4    sub6\n",
      "9   Betty   5    sub5 \n",
      "--------------------\n",
      "     Name  id subject   Name  id subject\n",
      "0    Alex   1    sub1  Billy   1    sub2\n",
      "1     Amy   2    sub2  Brian   2    sub4\n",
      "2   Allen   3    sub4   Bran   3    sub3\n",
      "3   Alice   4    sub6  Bryce   4    sub6\n",
      "4  Ayoung   5    sub5  Betty   5    sub5 \n",
      "--------------------\n",
      "     Name  id subject\n",
      "0    Alex   1    sub1\n",
      "1     Amy   2    sub2\n",
      "2   Allen   3    sub4\n",
      "3   Alice   4    sub6\n",
      "4  Ayoung   5    sub5\n",
      "0   Billy   1    sub2\n",
      "1   Brian   2    sub4\n",
      "2    Bran   3    sub3\n",
      "3   Bryce   4    sub6\n",
      "4   Betty   5    sub5 \n",
      "--------------------\n"
     ]
    }
   ],
   "source": [
    "import numpy as np\n",
    "import pandas as pd\n",
    "\n",
    "df1= pd.read_csv(\"datas/A.csv\", sep=';', header=0)\n",
    "df2= pd.read_csv(\"datas/B.csv\", sep=';', header=0)\n",
    "print(df1,\"\\n--------------------\")\n",
    "print(df2,\"\\n--------------------\")\n",
    "\n",
    "df = pd.concat([df1,df2],axis=0)\n",
    "print(df,\"\\n--------------------\")\n",
    "df = pd.concat([df1,df2],axis=0,ignore_index=True)\n",
    "print(df,\"\\n--------------------\")\n",
    "\n",
    "df = pd.concat([df1,df2],axis=1)\n",
    "print(df,\"\\n--------------------\")\n",
    "\n",
    "df = df1.append(df2)\n",
    "print(df,\"\\n--------------------\")\n"
   ]
  },
  {
   "cell_type": "markdown",
   "metadata": {},
   "source": [
    "---\n",
    "## Part Ⅺ ：Exercises"
   ]
  },
  {
   "cell_type": "markdown",
   "metadata": {},
   "source": [
    "#### Exercise 1:   \n",
    "Read the file tips.csv and print it."
   ]
  },
  {
   "cell_type": "code",
   "execution_count": 48,
   "metadata": {},
   "outputs": [
    {
     "name": "stdout",
     "output_type": "stream",
     "text": [
      "    bill   tip     sex smoker  day    time  size\n",
      "0  16.99  1.01  Female     No  Sun  Dinner     2\n",
      "1  10.34  1.66    Male    Yes  Sat   Lunch     3\n",
      "2  21.01  3.50    Male     No  Fri  Dinner     3\n",
      "3  23.68  3.31    Male     No  Sun   Lunch     2\n",
      "4  24.59  3.61  Female    Yes  Sun  Dinner     4\n"
     ]
    }
   ],
   "source": [
    "import pandas as pd\n",
    "\n",
    "df = pd.read_csv(\"datas/tips.csv\",sep=':',header=0)\n",
    "print(df)\n"
   ]
  },
  {
   "cell_type": "markdown",
   "metadata": {},
   "source": [
    "#### Exercise 2:   \n",
    "Print only the first 3 rows in tips.csv."
   ]
  },
  {
   "cell_type": "code",
   "execution_count": 49,
   "metadata": {},
   "outputs": [
    {
     "name": "stdout",
     "output_type": "stream",
     "text": [
      "    bill   tip     sex smoker  day    time  size\n",
      "0  16.99  1.01  Female     No  Sun  Dinner     2\n",
      "1  10.34  1.66    Male    Yes  Sat   Lunch     3\n",
      "2  21.01  3.50    Male     No  Fri  Dinner     3\n"
     ]
    }
   ],
   "source": [
    "import pandas as pd\n",
    "\n",
    "df = pd.read_csv(\"datas/tips.csv\",sep=':',header=0)\n",
    "print(df[:3])\n"
   ]
  },
  {
   "cell_type": "markdown",
   "metadata": {},
   "source": [
    "#### Exercise 3:  \n",
    "Print only the first 3 rows in tips.csv and the columns bill, sex, size.  \n",
    "Hint: you can use df[['bill','sex', 'size']]\n"
   ]
  },
  {
   "cell_type": "code",
   "execution_count": 50,
   "metadata": {},
   "outputs": [
    {
     "name": "stdout",
     "output_type": "stream",
     "text": [
      "    bill     sex  size\n",
      "0  16.99  Female     2\n",
      "1  10.34    Male     3\n",
      "2  21.01    Male     3\n"
     ]
    }
   ],
   "source": [
    "import pandas as pd\n",
    "\n",
    "df = pd.read_csv(\"datas/tips.csv\",sep=':',header=0)\n",
    "print(df[:3][['bill','sex', 'size']])\n"
   ]
  },
  {
   "cell_type": "markdown",
   "metadata": {},
   "source": [
    "#### Exercise 4: \n",
    "Print only the last 3 rows in tips.csv and the columns bill, sex, size."
   ]
  },
  {
   "cell_type": "code",
   "execution_count": 51,
   "metadata": {},
   "outputs": [
    {
     "name": "stdout",
     "output_type": "stream",
     "text": [
      "    bill     sex  size\n",
      "2  21.01    Male     3\n",
      "3  23.68    Male     2\n",
      "4  24.59  Female     4\n"
     ]
    }
   ],
   "source": [
    "import pandas as pd\n",
    "\n",
    "df = pd.read_csv(\"datas/tips.csv\",sep=':',header=0)\n",
    "print(df[-3:][['bill','sex', 'size']])\n"
   ]
  },
  {
   "cell_type": "markdown",
   "metadata": {},
   "source": [
    "#### Exercise 5:   \n",
    "Print only those whose time is 'Dinner'."
   ]
  },
  {
   "cell_type": "code",
   "execution_count": 52,
   "metadata": {},
   "outputs": [
    {
     "name": "stdout",
     "output_type": "stream",
     "text": [
      "    bill   tip     sex smoker  day    time  size\n",
      "0  16.99  1.01  Female     No  Sun  Dinner     2\n",
      "2  21.01  3.50    Male     No  Fri  Dinner     3\n",
      "4  24.59  3.61  Female    Yes  Sun  Dinner     4\n"
     ]
    }
   ],
   "source": [
    "import pandas as pd\n",
    "\n",
    "df = pd.read_csv(\"datas/tips.csv\",sep=':',header=0)\n",
    "a = df.groupby('time')\n",
    "print(a.get_group('Dinner'))\n"
   ]
  },
  {
   "cell_type": "markdown",
   "metadata": {},
   "source": [
    "#### Exercise 6:   \n",
    "Print only those whose bill is less than 20."
   ]
  },
  {
   "cell_type": "code",
   "execution_count": 53,
   "metadata": {},
   "outputs": [
    {
     "name": "stdout",
     "output_type": "stream",
     "text": [
      "    bill   tip     sex smoker  day    time  size\n",
      "0  16.99  1.01  Female     No  Sun  Dinner     2\n",
      "1  10.34  1.66    Male    Yes  Sat   Lunch     3\n"
     ]
    }
   ],
   "source": [
    "import pandas as pd\n",
    "\n",
    "df = pd.read_csv(\"datas/tips.csv\",sep=':',header=0)\n",
    "print(df[df[\"bill\"] < 20])\n"
   ]
  },
  {
   "cell_type": "markdown",
   "metadata": {},
   "source": [
    "#### Exercise 7:   \n",
    "Group by 'sex' and print the result."
   ]
  },
  {
   "cell_type": "code",
   "execution_count": 54,
   "metadata": {},
   "outputs": [
    {
     "name": "stdout",
     "output_type": "stream",
     "text": [
      "Female \t [0, 4]\n",
      "Male \t [1, 2, 3]\n"
     ]
    }
   ],
   "source": [
    "import pandas as pd\n",
    "\n",
    "df = pd.read_csv(\"datas/tips.csv\",sep=':',header=0)\n",
    "a = df.groupby('sex')\n",
    "\n",
    "for x,y in a.groups.items():\n",
    "    print(x,\"\\t\",list(y))\n"
   ]
  },
  {
   "cell_type": "markdown",
   "metadata": {},
   "source": [
    "#### Exercise 8:   \n",
    "Draw a graph using pandas and opencv for the file shown on the right."
   ]
  },
  {
   "cell_type": "code",
   "execution_count": 22,
   "metadata": {},
   "outputs": [
    {
     "name": "stdout",
     "output_type": "stream",
     "text": [
      "[[512 191]\n",
      " [542 192]\n",
      " [572 186]\n",
      " [602 190]\n",
      " [632 182]\n",
      " [662 166]\n",
      " [692 162]\n",
      " [722 172]\n",
      " [752 179]\n",
      " [782 163]]\n"
     ]
    },
    {
     "data": {
      "image/png": "[encoded data removed]",
      "text/plain": [
       "<Figure size 432x288 with 1 Axes>"
      ]
     },
     "metadata": {
      "needs_background": "light"
     },
     "output_type": "display_data"
    }
   ],
   "source": [
    "import sys\n",
    "import cv2\n",
    "import numpy as np\n",
    "sys.path.append(\"..\")\n",
    "import pandas as pd\n",
    "from matplotlib import pyplot as plt\n",
    "\n",
    "def horizontal_line(zone,x,y,color = (255,255,255)):\n",
    "    return cv2.line(zone,(0,int(y)),(int(x),int(y)),color,1)\n",
    "\n",
    "def vertical_line(zone,x,y,color = (255,255,255)):\n",
    "    return cv2.line(zone,(int(x),0),(int(x),int(y)),color,1)\n",
    "\n",
    "\n",
    "# make the background\n",
    "img = np.zeros((512,1024,3),np.uint8)\n",
    "x_max = img.shape[1]\n",
    "y_max = img.shape[0]\n",
    "img1 = vertical_line(img,x_max/2,y_max)\n",
    "img2 = horizontal_line(img1,x_max,y_max/2)\n",
    "\n",
    "A = []\n",
    "B = []\n",
    "pts = []\n",
    "\n",
    "# put Anomaly values into an array\n",
    "df = pd.read_csv(\"datas/temperature.csv\",sep=';',header=0)\n",
    "df = df.sort_values(by='Year')\n",
    "A = np.append(A,df['Anomaly'].values)\n",
    "B = np.append(B,df['Year'].values)\n",
    "n = A.shape[0]\n",
    "\n",
    "# calculate the points condinates\n",
    "for i in range(n):\n",
    "    pts.append([x_max/2+(i*30),y_max/2-A[i]*100])\n",
    "pts = np.array(pts, np.int32)\n",
    "print(pts)\n",
    "\n",
    "# draw the polyline\n",
    "for i in range(n):\n",
    "    img = cv2.putText(img2,str(int(B[i])), (pts[i][0],int(y_max/2)),\n",
    "                cv2.FONT_HERSHEY_SIMPLEX,\n",
    "                0.3, (255,255,255), 1, cv2.LINE_AA)\n",
    "img = cv2.polylines(img,[pts],False,(0,255,255))\n",
    "img = img[:int(y_max/2+20),int(x_max/2):,:]\n",
    "\n",
    "plt.imshow(img)\n",
    "plt.title('my picture')\n",
    "plt.show()"
   ]
  },
  {
   "cell_type": "markdown",
   "metadata": {},
   "source": [
    "#### Exercise 9:   \n",
    "Draw a graph using pandas and opencv for the file shown on the right."
   ]
  },
  {
   "cell_type": "code",
   "execution_count": 4,
   "metadata": {},
   "outputs": [
    {
     "data": {
      "image/png": "[encoded data removed]",
      "text/plain": [
       "<Figure size 432x288 with 1 Axes>"
      ]
     },
     "metadata": {
      "needs_background": "light"
     },
     "output_type": "display_data"
    }
   ],
   "source": [
    "import sys\n",
    "import cv2\n",
    "import numpy as np\n",
    "sys.path.append(\"..\")\n",
    "import pandas as pd\n",
    "from matplotlib import pyplot as plt\n",
    "\n",
    "def horizontal_line(zone,x,y,color = (255,255,255)):\n",
    "    return cv2.line(zone,(0,int(y)),(int(x),int(y)),color,1)\n",
    "\n",
    "def vertical_line(zone,x,y,color = (255,255,255)):\n",
    "    return cv2.line(zone,(int(x),0),(int(x),int(y)),color,1)\n",
    "\n",
    "\n",
    "# make the background\n",
    "img = np.zeros((512,800,3),np.uint8)+255\n",
    "x_max = img.shape[1]\n",
    "y_max = img.shape[0]\n",
    "img1 = vertical_line(img,x_max/2,y_max)\n",
    "img2 = horizontal_line(img1,x_max,y_max/2)\n",
    "\n",
    "A = []\n",
    "B = []\n",
    "pts = []\n",
    "pts2 = []\n",
    "# put Anomaly values into an array\n",
    "df = pd.read_csv(\"datas/temperature.csv\",sep=';',header=0)\n",
    "df = df.sort_values(by='Year')\n",
    "A = np.append(A,df['Anomaly'].values)\n",
    "B = np.append(B,df['Year'].values)\n",
    "n = A.shape[0]\n",
    "\n",
    "# calculate the points condinates\n",
    "for i in range(n):\n",
    "    pts.append([x_max/2+(i*30)+10,y_max/2-A[i]*100])\n",
    "pts = np.array(pts, np.int32)\n",
    "\n",
    "for i in range(n):\n",
    "    pts2.append([x_max/2+(i*30)+30,y_max/2])\n",
    "pts2 = np.array(pts2, np.int32)\n",
    "\n",
    "# draw the rectangle\n",
    "for i in range(n):\n",
    "    img = cv2.putText(img2,str(int(B[i])), (pts2[i][0]-20,pts2[i][1]+10),\n",
    "                cv2.FONT_HERSHEY_SIMPLEX,\n",
    "                0.3, (0,0,0), 1, cv2.LINE_AA)\n",
    "\n",
    "for i in range(n):\n",
    "    img = cv2.rectangle(img,tuple(pts[i]),tuple(pts2[i]),(255,0,0),-1)\n",
    "img = img[:int(y_max/2+20),int(x_max/2):,:]\n",
    "\n",
    "plt.imshow(img)\n",
    "plt.title('my picture')\n",
    "plt.show()\n"
   ]
  },
  {
   "cell_type": "markdown",
   "metadata": {},
   "source": [
    "#### Exercise 10:   \n",
    "Draw a graph using pandas and opencv for the file shown on the right."
   ]
  },
  {
   "cell_type": "code",
   "execution_count": 1,
   "metadata": {},
   "outputs": [
    {
     "data": {
      "image/png": "[encoded data removed]",
      "text/plain": [
       "<Figure size 432x288 with 1 Axes>"
      ]
     },
     "metadata": {
      "needs_background": "light"
     },
     "output_type": "display_data"
    }
   ],
   "source": [
    "import sys\n",
    "import cv2\n",
    "import numpy as np\n",
    "sys.path.append(\"..\")\n",
    "import pandas as pd\n",
    "import math\n",
    "from matplotlib import pyplot as plt\n",
    "\n",
    "def horizontal_line(zone,x,y,color = (255,255,255)):\n",
    "    return cv2.line(zone,(0,int(y)),(int(x),int(y)),color,1)\n",
    "\n",
    "def vertical_line(zone,x,y,color = (255,255,255)):\n",
    "    return cv2.line(zone,(int(x),0),(int(x),int(y)),color,1)\n",
    "\n",
    "\n",
    "# make the background\n",
    "img = np.zeros((512,512,3),np.uint8)#+255\n",
    "x_max = img.shape[1]\n",
    "y_max = img.shape[0]\n",
    "img1 = vertical_line(img,x_max/2,y_max)\n",
    "img2 = horizontal_line(img1,x_max,y_max/2)\n",
    "\n",
    "A = np.array([])\n",
    "B = np.array([])\n",
    "C = np.array([])\n",
    "D = np.array([])\n",
    "E = np.array([])\n",
    "F = np.array([])\n",
    "angle = np.array([])\n",
    "start = np.array([])\n",
    "\n",
    "x = int(x_max/2)\n",
    "y = int(y_max/2)\n",
    "r = 200\n",
    "# put Anomaly values into an array\n",
    "df = pd.read_csv(\"datas/energy.csv\",sep=':',header=0)\n",
    "df = df.sort_values(by='Resource')\n",
    "A = np.append(A,df['Resource'].values)\n",
    "B = np.append(B,df['Percentages'].values)\n",
    "C = np.append(C,df['Rate'].values)\n",
    "n = B.shape[0]\n",
    "\n",
    "# calculate the angles\n",
    "for i in range(n):\n",
    "    angle = np.append(angle,(int(B[i]*360)))\n",
    "    start = np.append(start,angle[:i].sum())\n",
    "start = np.append(start,360)\n",
    "m = start.shape[0]\n",
    "\n",
    "# draw the ellipses\n",
    "for i in range(m-1):\n",
    "    end = start[i+1]\n",
    "    color = (255-30*i,255-i*20,i*40)\n",
    "    img = cv2.ellipse(img2,(x,y),(r,r),0,start[i],end,color,-1)\n",
    "\n",
    "# get angle to calculate the middle points to put text\n",
    "for i in range(m-1):\n",
    "    D = np.append(D,start[i]+(int(start[i+1]-start[i])/2))\n",
    "\n",
    "# mark points\n",
    "for i in range(n):\n",
    "    a = x + int(np.cos(D[i]/180 * np.pi)*r)    #:X\n",
    "    b = y + int(np.sin(D[i]/180 * np.pi)*r)    #:Y\n",
    "    E = np.append(E,a)\n",
    "    F = np.append(F,b)\n",
    "    img = cv2.circle(img,(a,b), 1, (0,0,0), -1)\n",
    "\n",
    "# draw lines and put texts\n",
    "for i in range(n):\n",
    "    if D[i]>= 90 and D[i]<= 270:\n",
    "        img = cv2.line(img,(int(E[i]),int(F[i])),(int(x-r-50),int(F[i])),(255,255,255),1)\n",
    "        img = cv2.putText(img,A[i],(int(x-r-50),int(F[i]-10)),\n",
    "                        cv2.FONT_HERSHEY_SIMPLEX,\n",
    "                        0.5, (255,255,255), 1, cv2.LINE_AA)\n",
    "        img = cv2.putText(img,C[i],(int(x-r-50),int(F[i]+15)),\n",
    "                        cv2.FONT_HERSHEY_SIMPLEX,\n",
    "                        0.5, (255,255,255), 1, cv2.LINE_AA)\n",
    "    else:\n",
    "        img = cv2.line(img,(int(E[i]),int(F[i])),(int(x+r+50),int(F[i])),(255,255,255),1)\n",
    "        img = cv2.putText(img,A[i],(int(x+r+25),int(F[i]-10)),\n",
    "                        cv2.FONT_HERSHEY_SIMPLEX,\n",
    "                        0.5, (255,255,255), 1, cv2.LINE_AA)\n",
    "        img = cv2.putText(img,C[i],(int(x+r+25),int(F[i]+15)),\n",
    "                        cv2.FONT_HERSHEY_SIMPLEX,\n",
    "                        0.5, (255,255,255), 1, cv2.LINE_AA)\n",
    "plt.imshow(img)\n",
    "plt.title('my picture')\n",
    "plt.show()"
   ]
  },
  {
   "cell_type": "markdown",
   "metadata": {},
   "source": [
    "####  Exercise 11:   \n",
    "Draw a graph using pandas and opencv for the file shown on the right."
   ]
  },
  {
   "cell_type": "code",
   "execution_count": 2,
   "metadata": {},
   "outputs": [
    {
     "data": {
      "image/png": "[encoded data removed]",
      "text/plain": [
       "<Figure size 432x288 with 1 Axes>"
      ]
     },
     "metadata": {
      "needs_background": "light"
     },
     "output_type": "display_data"
    }
   ],
   "source": [
    "import sys\n",
    "import cv2\n",
    "import numpy as np\n",
    "sys.path.append(\"..\")\n",
    "import pandas as pd\n",
    "import math\n",
    "from matplotlib import pyplot as plt\n",
    "\n",
    "def horizontal_line(zone,x,y,color = (255,255,255)):\n",
    "    return cv2.line(zone,(0,int(y)),(int(x),int(y)),color,1)\n",
    "\n",
    "def vertical_line(zone,x,y,color = (255,255,255)):\n",
    "    return cv2.line(zone,(int(x),0),(int(x),int(y)),color,1)\n",
    "\n",
    "\n",
    "# make the background\n",
    "img = np.zeros((512,512,3),np.uint8)#+255\n",
    "x_max = img.shape[1]\n",
    "y_max = img.shape[0]\n",
    "img1 = vertical_line(img,x_max/2,y_max)\n",
    "img2 = horizontal_line(img1,x_max,y_max/2)\n",
    "\n",
    "A = np.array([])\n",
    "B = np.array([])\n",
    "C = np.array([])\n",
    "D = np.array([])\n",
    "E = np.array([])\n",
    "F = np.array([])\n",
    "angle = np.array([])\n",
    "start = np.array([])\n",
    "\n",
    "x = int(x_max/2)\n",
    "y = int(y_max/2)\n",
    "r = 200\n",
    "# put Anomaly values into an array\n",
    "df = pd.read_csv(\"datas/energy.csv\",sep=':',header=0)\n",
    "df = df.sort_values(by='Resource')\n",
    "A = np.append(A,df['Resource'].values)\n",
    "B = np.append(B,df['Percentages'].values)\n",
    "C = np.append(C,df['Rate'].values)\n",
    "n = B.shape[0]\n",
    "\n",
    "# calculate the angles\n",
    "for i in range(n):\n",
    "    angle = np.append(angle,(int(B[i]*360)))\n",
    "    start = np.append(start,angle[:i].sum())\n",
    "start = np.append(start,360)\n",
    "m = start.shape[0]\n",
    "\n",
    "# draw the ellipses\n",
    "for i in range(m-1):\n",
    "    end = start[i+1]\n",
    "    color = (255-30*i,255-i*20,i*40)\n",
    "    img = cv2.ellipse(img2,(x,y),(r,r),0,start[i],end,color,-1)\n",
    "\n",
    "# creat another circle in the middle\n",
    "img = cv2.circle(img,(x,y), 100, (0,0,0), -1)\n",
    "\n",
    "# get angle to calculate the middle points to put text\n",
    "for i in range(m-1):\n",
    "    D = np.append(D,start[i]+(int(start[i+1]-start[i])/2))\n",
    "\n",
    "# mark points\n",
    "for i in range(n):\n",
    "    a = x + int(np.cos(D[i]/180*math.pi)*r)    #:X\n",
    "    b = y + int(np.sin(D[i]/180*math.pi)*r)    #:Y\n",
    "    E = np.append(E,a)\n",
    "    F = np.append(F,b)\n",
    "    img = cv2.circle(img,(a,b), 1, (0,0,0), -1)\n",
    "\n",
    "# draw lines and put texts\n",
    "for i in range(n):\n",
    "    if D[i]>= 90 and D[i]<= 270:\n",
    "        img = cv2.line(img,(int(E[i]),int(F[i])),(int(x-r-50),int(F[i])),(255,255,255),1)\n",
    "        img = cv2.putText(img,A[i],(int(x-r-50),int(F[i]-10)),\n",
    "                        cv2.FONT_HERSHEY_SIMPLEX,\n",
    "                        0.5, (255,255,255), 1, cv2.LINE_AA)\n",
    "        img = cv2.putText(img,C[i],(int(x-r-50),int(F[i]+15)),\n",
    "                        cv2.FONT_HERSHEY_SIMPLEX,\n",
    "                        0.5, (255,255,255), 1, cv2.LINE_AA)\n",
    "    else:\n",
    "        img = cv2.line(img,(int(E[i]),int(F[i])),(int(x+r+50),int(F[i])),(255,255,255),1)\n",
    "        img = cv2.putText(img,A[i],(int(x+r+25),int(F[i]-10)),\n",
    "                        cv2.FONT_HERSHEY_SIMPLEX,\n",
    "                        0.5, (255,255,255), 1, cv2.LINE_AA)\n",
    "        img = cv2.putText(img,C[i],(int(x+r+25),int(F[i]+15)),\n",
    "                        cv2.FONT_HERSHEY_SIMPLEX,\n",
    "                        0.5, (255,255,255), 1, cv2.LINE_AA)\n",
    "plt.imshow(img)\n",
    "plt.title('my picture')\n",
    "plt.show()\n"
   ]
  }
 ],
 "metadata": {
  "kernelspec": {
   "display_name": "Python 3",
   "language": "python",
   "name": "python3"
  },
  "language_info": {
   "codemirror_mode": {
    "name": "ipython",
    "version": 3
   },
   "file_extension": ".py",
   "mimetype": "text/x-python",
   "name": "python",
   "nbconvert_exporter": "python",
   "pygments_lexer": "ipython3",
   "version": "3.7.0"
  }
 },
 "nbformat": 4,
 "nbformat_minor": 4
}
