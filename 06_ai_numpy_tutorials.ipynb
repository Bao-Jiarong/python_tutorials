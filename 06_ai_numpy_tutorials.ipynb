{
 "cells": [
  {
   "cell_type": "markdown",
   "metadata": {},
   "source": [
    "## Exercise 1:\n",
    "Calculate the 2x2 MaxPooling in the same manner as in the following example:\n",
    "\n",
    "<img src=\"img/max_pooling.gif\" align=\"center\" width=\"300\" height=\"300\"/>\n",
    "\n",
    "```\n",
    "M =  [[ 12  20  30   0]             \n",
    "      [  8  12   2   0]  \n",
    "      [ 34  70  37   4]  \n",
    "      [112 100  25  12]]\n",
    "```\n",
    "     \n",
    "#### result:  \n",
    "```\n",
    "     [[ 20  30]  \n",
    "      [112  37]]  \n",
    "```      \n",
    "[Reference Link](https://computersciencewiki.org/index.php/Max-pooling_/_Pooling)"
   ]
  },
  {
   "cell_type": "code",
   "execution_count": 2,
   "metadata": {},
   "outputs": [
    {
     "name": "stdout",
     "output_type": "stream",
     "text": [
      "[[ 20.  30.   7.]\n",
      " [112.  37.  12.]]\n"
     ]
    }
   ],
   "source": [
    "import numpy as np\n",
    "\n",
    "a = [[ 12,  20, 30,  0,  7,  6],\n",
    "     [  8,  12,  2,  0,  5,  3],\n",
    "     [ 34,  70, 37,  4, 10, 12],\n",
    "     [112, 100, 25, 12,  1,  3]]\n",
    "A = np.array(a)\n",
    "d = np.array([])\n",
    "n = A.shape[0]\n",
    "m = A.shape[1]\n",
    "\n",
    "for i in range(0,n,2):\n",
    "    for j in range(0,m,2):\n",
    "        d = np.append(d,A[i:i+2,j:j+2].max())\n",
    "print(d.reshape((2,3)))\n",
    "\n",
    "\n",
    "# c1 = A[0:2,0:2].max()\n",
    "# c2 = A[0:2,2:4].max()\n",
    "# c3 = A[0:2,4:6].max()\n",
    "#\n",
    "# c4 = A[2:4,0:2].max()\n",
    "# c5 = A[2:4,2:4].max()\n",
    "# c6 = A[2:4,4:6].max()\n",
    "\n",
    "# d = np.array([[c1,c2,c3],\n",
    "#               [c4,c5,c6]])"
   ]
  },
  {
   "cell_type": "markdown",
   "metadata": {},
   "source": [
    "## Exercise 2:\n",
    "Calculate the 2x2 MinPooling in the same manner as the following example:  \n",
    "\n",
    "```\n",
    "M =  [[ 12  20   30   0]     \n",
    "      [  8  12   2    0]  \n",
    "      [ 34  70   37   4]  \n",
    "      [112  100  25  12]]  \n",
    "```\n",
    "#### result:  \n",
    "```\n",
    "     [[ 8   0]  \n",
    "      [34   4]]\n",
    "```"
   ]
  },
  {
   "cell_type": "code",
   "execution_count": 4,
   "metadata": {},
   "outputs": [
    {
     "name": "stdout",
     "output_type": "stream",
     "text": [
      "[[ 8.  0.  3.]\n",
      " [34.  4.  1.]]\n"
     ]
    }
   ],
   "source": [
    "import numpy as np\n",
    "\n",
    "a = [[ 12,  20, 30,  0,  7,  6],\n",
    "     [  8,  12,  2,  0,  5,  3],\n",
    "     [ 34,  70, 37,  4, 10, 12],\n",
    "     [112, 100, 25, 12,  1,  3]]\n",
    "A = np.array(a)\n",
    "d = np.array([])\n",
    "n = A.shape[0]\n",
    "m = A.shape[1]\n",
    "\n",
    "for i in range(0,n,2):\n",
    "    for j in range(0,m,2):\n",
    "        d = np.append(d,A[i:i+2,j:j+2].min())\n",
    "\n",
    "print(d.reshape((2,3)))\n"
   ]
  },
  {
   "cell_type": "markdown",
   "metadata": {},
   "source": [
    "## Exercise 3:\n",
    "Calculate the 2x2 AvgPooling in the same manner as the following example:  \n",
    "```\n",
    "M =  [[ 12  20  30   0]     \n",
    "      [  8  12   2   0]      \n",
    "      [ 34  70  37   4]  \n",
    "      [112 100  25  12]]  \n",
    "```\n",
    "#### result:\n",
    "```\n",
    "     [[13.0   8.0]  \n",
    "      [79.0  19.5]]\n",
    "```"
   ]
  },
  {
   "cell_type": "code",
   "execution_count": 6,
   "metadata": {},
   "outputs": [
    {
     "name": "stdout",
     "output_type": "stream",
     "text": [
      "[[13.    8.    5.25]\n",
      " [79.   19.5   6.5 ]]\n"
     ]
    }
   ],
   "source": [
    "import numpy as np\n",
    "\n",
    "a = [[ 12,  20, 30,  0,  7,  6],\n",
    "     [  8,  12,  2,  0,  5,  3],\n",
    "     [ 34,  70, 37,  4, 10, 12],\n",
    "     [112, 100, 25, 12,  1,  3]]\n",
    "A = np.array(a)\n",
    "d = np.array([])\n",
    "n = A.shape[0]\n",
    "m = A.shape[1]\n",
    "\n",
    "for i in range(0,n,2):\n",
    "    for j in range(0,m,2):\n",
    "        d = np.append(d,A[i:i+2,j:j+2].mean())\n",
    "\n",
    "print(d.reshape((2,3)))\n"
   ]
  },
  {
   "cell_type": "markdown",
   "metadata": {},
   "source": [
    "## Exercise 4:\n",
    "Calculate the 2xk MaxPooling in the same manner as the following example:  \n",
    "```\n",
    "M =  [[ 12  20  30   0   7   6]     \n",
    "      [  8  12   2   0   5   3]      \n",
    "      [ 34  70  37   4  10  12]  \n",
    "      [112 100  25  12   1   3]]  \n",
    "```\n",
    "#### result:\n",
    "```\n",
    "     [[ 20  30  7]  \n",
    "      [ 12   2  5]  \n",
    "      [ 70  37 12]  \n",
    "      [112  25  3]]\n",
    "```"
   ]
  },
  {
   "cell_type": "code",
   "execution_count": 9,
   "metadata": {},
   "outputs": [
    {
     "name": "stdout",
     "output_type": "stream",
     "text": [
      "kernel size1 = 2\n",
      "kernel size2  = 2\n",
      "[[ 20.  30.   7.]\n",
      " [112.  37.  12.]]\n"
     ]
    }
   ],
   "source": [
    "import numpy as np\n",
    "\n",
    "a = [[ 12,  20, 30,  0,  7,  6],\n",
    "     [  8,  12,  2,  0,  5,  3],\n",
    "     [ 34,  70, 37,  4, 10, 12],\n",
    "     [112, 100, 25, 12,  1,  3]]\n",
    "A = np.array(a)\n",
    "d = np.array([])\n",
    "n = A.shape[0]\n",
    "m = A.shape[1]\n",
    "\n",
    "y = int(input(\"kernel size1 = \"))\n",
    "k = int(input(\"kernel size2  = \"))\n",
    "\n",
    "\n",
    "if n%y == 0 and m%k == 0:\n",
    "    for i in range(0,n,y):\n",
    "        for j in range(0,m,k):\n",
    "            d = np.append(d,A[i:i+y,j:j+k].max())\n",
    "    t1 = int(n/y)\n",
    "    t2 = int(m/k)\n",
    "    d = d.reshape((t1,t2))\n",
    "    print(d)\n",
    "else:\n",
    "    print(y,k,\"is not the common divisor of\",n,m)\n"
   ]
  },
  {
   "cell_type": "markdown",
   "metadata": {},
   "source": [
    "## Exercise 5:  \n",
    "Pad 4 zeros rows and 4 zeros columns in the matrix borders:  \n",
    "```\n",
    "A =  [[ 3 3 2 1 5]  \n",
    "      [ 5 0 1 3 1]  \n",
    "      [ 3 1 2 2 3]  \n",
    "      [ 2 0 0 2 2]  \n",
    "      [ 2 1 2 1 1]]  \n",
    "```\n",
    "#### result:  \n",
    "```\n",
    "A =  [[0 0 0 0 0 0 0 0 0]  \n",
    "      [0 0 0 0 0 0 0 0 0]  \n",
    "      [0 0 3 3 2 1 5 0 0]  \n",
    "      [0 0 5 0 1 3 1 0 0]  \n",
    "      [0 0 3 1 2 2 3 0 0]  \n",
    "      [0 0 2 0 0 2 2 0 0]  \n",
    "      [0 0 2 1 2 1 1 0 0]  \n",
    "      [0 0 0 0 0 0 0 0 0]  \n",
    "      [0 0 0 0 0 0 0 0 0]]\n",
    "```"
   ]
  },
  {
   "cell_type": "code",
   "execution_count": 11,
   "metadata": {},
   "outputs": [
    {
     "name": "stdout",
     "output_type": "stream",
     "text": [
      "[[0. 0. 0. 0. 0. 0. 0. 0. 0.]\n",
      " [0. 0. 0. 0. 0. 0. 0. 0. 0.]\n",
      " [0. 0. 3. 3. 2. 1. 5. 0. 0.]\n",
      " [0. 0. 5. 0. 1. 3. 1. 0. 0.]\n",
      " [0. 0. 3. 1. 2. 2. 3. 0. 0.]\n",
      " [0. 0. 2. 0. 0. 2. 2. 0. 0.]\n",
      " [0. 0. 2. 1. 2. 1. 1. 0. 0.]\n",
      " [0. 0. 0. 0. 0. 0. 0. 0. 0.]\n",
      " [0. 0. 0. 0. 0. 0. 0. 0. 0.]]\n"
     ]
    }
   ],
   "source": [
    "import numpy as np\n",
    "\n",
    "a = [[ 3, 3, 2, 1, 5],\n",
    "     [ 5, 0, 1, 3, 1],\n",
    "     [ 3, 1, 2, 2, 3],\n",
    "     [ 2, 0, 0, 2, 2],\n",
    "     [ 2, 1, 2, 1, 1]]\n",
    "A = np.array(a)\n",
    "n = A.shape[0]\n",
    "m = n + 4\n",
    "\n",
    "b = np.zeros((m,m))\n",
    "B = np.array(b)\n",
    "B[2:7,2:7] = a\n",
    "print(B)"
   ]
  },
  {
   "cell_type": "markdown",
   "metadata": {},
   "source": [
    "## Exercise 6:\n",
    "Remove zeros from the matrix borders:  \n",
    "```\n",
    "M =   [[0 0 0 0 0 0 0]  \n",
    "       [0 3 3 2 1 0 0]  \n",
    "       [0 0 0 1 3 1 0]  \n",
    "       [0 3 1 2 2 3 0]  \n",
    "       [0 2 0 0 2 2 0]  \n",
    "       [0 2 0 0 0 1 0]  \n",
    "       [0 0 0 0 0 0 0]]   \n",
    "```\n",
    "#### result:\n",
    "```\n",
    "M =   [[ 3 3 2 1 0]  \n",
    "       [ 0 0 1 3 1]  \n",
    "       [ 3 1 2 2 3]  \n",
    "       [ 2 0 0 2 2]  \n",
    "       [ 2 0 0 0 1]]\n",
    "```"
   ]
  },
  {
   "cell_type": "code",
   "execution_count": 12,
   "metadata": {},
   "outputs": [
    {
     "name": "stdout",
     "output_type": "stream",
     "text": [
      "[[3 3 2 1 0]\n",
      " [0 0 1 3 1]\n",
      " [3 1 2 2 3]\n",
      " [2 0 0 2 2]\n",
      " [2 0 0 0 1]]\n"
     ]
    }
   ],
   "source": [
    "import numpy as np\n",
    "\n",
    "a = [[0, 0, 0, 0, 0, 0, 0],\n",
    "     [0, 3, 3, 2, 1, 0, 0],\n",
    "     [0, 0, 0, 1, 3, 1, 0],\n",
    "     [0, 3, 1, 2, 2, 3, 0],\n",
    "     [0, 2, 0, 0, 2, 2, 0],\n",
    "     [0, 2, 0, 0, 0, 1, 0],\n",
    "     [0, 0, 0, 0, 0, 0, 0]]\n",
    "\n",
    "A = np.array(a)\n",
    "n = A.shape[0]\n",
    "# A = np.delete(A,(0,n-1),axis=0)   # delete the 1st & the last rows\n",
    "# m = A.shape[1]\n",
    "# A = np.delete(A,(0,m-1),axis=1)   # # delete the 1st & the last columns\n",
    "# print(A)\n",
    "\n",
    "# 2nd way\n",
    "A = A[1:n-1,1:n-1]\n",
    "print(A)"
   ]
  },
  {
   "cell_type": "markdown",
   "metadata": {},
   "source": [
    "## Exercise 7:   \n",
    "Calculate the matrices multiplication and sum the result.  \n",
    "```\n",
    "A =   [[1 0 1]  \n",
    "       [0 1 0]  \n",
    "       [0 0 1]]  \n",
    "\n",
    "B =   [[1 2 0]  \n",
    "       [0 2 0]  \n",
    "       [1 0 0]] \n",
    "```\n",
    "#### result:  \n",
    "```\n",
    "AB =  [[2 2 0]  \n",
    "       [0 2 0]  \n",
    "       [1 0 0]]  \n",
    "```"
   ]
  },
  {
   "cell_type": "code",
   "execution_count": 13,
   "metadata": {},
   "outputs": [
    {
     "name": "stdout",
     "output_type": "stream",
     "text": [
      "[[2. 2. 0.]\n",
      " [0. 2. 0.]\n",
      " [1. 0. 0.]]\n",
      "sum =  7.0\n"
     ]
    }
   ],
   "source": [
    "import numpy as np\n",
    "\n",
    "a = [[1, 0, 1],\n",
    "     [0, 1, 0],\n",
    "     [0, 0, 1]]\n",
    "\n",
    "b = [[1, 2, 0],\n",
    "     [0, 2, 0],\n",
    "     [1, 0, 0]]\n",
    "\n",
    "C = np.zeros((3,3))\n",
    "\n",
    "A = np.array(a)\n",
    "B = np.array(b)\n",
    "\n",
    "n = A.shape[0]       # a的行\n",
    "m = B.shape[1]       # b的列\n",
    "t = A.shape[1]       # a的列 或 b的行\n",
    "\n",
    "for i in range(n):       # 行数\n",
    "    for j in range(m):   # 列数\n",
    "        for k in range(t):\n",
    "            C[i][j] = C[i][j] + (A[i][k] * B[k][j])\n",
    "print(C)\n",
    "print(\"sum = \",C.sum())\n",
    "\n",
    "# x = A @ B\n",
    "# print(x)"
   ]
  },
  {
   "cell_type": "markdown",
   "metadata": {},
   "source": [
    "## Exercise 8:   \n",
    "Calculate the matrices multiplication and sum the result in this way:  \n",
    "```\n",
    "A =  [[1 0 1 2]  \n",
    "      [0 1 0 0]  \n",
    "      [0 0 1 1]  \n",
    "      [1 0 1 1]]  \n",
    "\n",
    "B =  [[1 1]  \n",
    "      [0 2]]  \n",
    "```\n",
    "#### result:  \n",
    "```\n",
    "     [[4 6]  \n",
    "      [2 8]]\n",
    "```"
   ]
  },
  {
   "cell_type": "code",
   "execution_count": 15,
   "metadata": {},
   "outputs": [
    {
     "name": "stdout",
     "output_type": "stream",
     "text": [
      "[[4. 6.]\n",
      " [2. 8.]]\n"
     ]
    }
   ],
   "source": [
    "import numpy as np\n",
    "\n",
    "a = [[1, 0, 1, 2],\n",
    "     [0, 1, 0, 0],\n",
    "     [0, 0, 1, 1],\n",
    "     [1, 0, 1, 1]]\n",
    "\n",
    "b = [[1, 1],\n",
    "     [0, 2]]\n",
    "\n",
    "A = np.array(a)\n",
    "B = np.array(b)\n",
    "M = np.array([])\n",
    "C = A[:,0:2]\n",
    "D = A[:,2:4]\n",
    "\n",
    "x = C @ B\n",
    "y = D @ B\n",
    "\n",
    "Z = np.hstack((x,y))\n",
    "n = A.shape[0]\n",
    "m = A.shape[1]\n",
    "\n",
    "for i in range(0,n,2):\n",
    "    for j in range(0,m,2):\n",
    "        M = np.append(M,Z[i:i+2,j:j+2].sum())\n",
    "print(M.reshape((2,2)))\n"
   ]
  },
  {
   "cell_type": "markdown",
   "metadata": {},
   "source": [
    "# Exercise 9:   \n",
    "Calculate the 2x2 Convolution as the following example:  \n",
    "\n",
    "<img src=\"img/conv.gif\" align=\"center\" width=\"300\" height=\"300\"/>\n",
    "\n",
    "```    \n",
    "M =   [[ 3 3 2 1 0]  \n",
    "       [ 0 0 1 3 1]  \n",
    "       [ 3 1 2 2 3]   \n",
    "       [ 2 0 0 2 2]  \n",
    "       [ 2 0 0 0 1]]  \n",
    "```\n",
    "#### result:  \n",
    "```    \n",
    "      [[ 6 6 7 5]  \n",
    "       [ 4 4 8 9]  \n",
    "       [ 6 3 6 9]  \n",
    "       [ 4 0 2 5]]  \n",
    "```\n",
    "[Reference Link](https://en.wikipedia.org/wiki/Convolutional_neural_network)"
   ]
  },
  {
   "cell_type": "code",
   "execution_count": 16,
   "metadata": {},
   "outputs": [
    {
     "name": "stdout",
     "output_type": "stream",
     "text": [
      "[[6. 6. 7. 5.]\n",
      " [4. 4. 8. 9.]\n",
      " [6. 3. 6. 9.]\n",
      " [4. 0. 2. 5.]]\n"
     ]
    }
   ],
   "source": [
    "import numpy as np\n",
    "\n",
    "a = [[ 3, 3, 2, 1, 0],\n",
    "     [ 0, 0, 1, 3, 1],\n",
    "     [ 3, 1, 2, 2, 3],\n",
    "     [ 2, 0, 0, 2, 2],\n",
    "     [ 2, 0, 0, 0, 1]]\n",
    "A = np.array(a)\n",
    "d = np.array([])\n",
    "n = A.shape[0]\n",
    "m = A.shape[1]\n",
    "\n",
    "for i in range(0,n-1,1):\n",
    "    for j in range(0,m-1,1):\n",
    "        d = np.append(d,A[i:i+2,j:j+2].sum())\n",
    "print(d.reshape((n-1,m-1)))"
   ]
  },
  {
   "cell_type": "markdown",
   "metadata": {},
   "source": [
    "# Exercise 10:  \n",
    "Calculate the 3x3 Convolution as the following example:  \n",
    "```    \n",
    "M =  [[ 3 3 2 1 0]  \n",
    "      [ 0 0 1 3 1]  \n",
    "      [ 3 1 2 2 3]  \n",
    "      [ 2 0 0 2 2]  \n",
    "      [ 2 0 0 0 1]]  \n",
    "```\n",
    "#### result:\n",
    "```\n",
    "     [[ 15 15 15]  \n",
    "      [  9 11 16]  \n",
    "      [ 10  7 12]]\n",
    "```"
   ]
  },
  {
   "cell_type": "code",
   "execution_count": 17,
   "metadata": {},
   "outputs": [
    {
     "name": "stdout",
     "output_type": "stream",
     "text": [
      "[[15. 15. 15.]\n",
      " [ 9. 11. 16.]\n",
      " [10.  7. 12.]]\n"
     ]
    }
   ],
   "source": [
    "import numpy as np\n",
    "\n",
    "a = [[ 3, 3, 2, 1, 0],\n",
    "     [ 0, 0, 1, 3, 1],\n",
    "     [ 3, 1, 2, 2, 3],\n",
    "     [ 2, 0, 0, 2, 2],\n",
    "     [ 2, 0, 0, 0, 1]]\n",
    "A = np.array(a)\n",
    "d = np.array([])\n",
    "n = A.shape[0]\n",
    "m = A.shape[1]\n",
    "\n",
    "for i in range(0,n-2,1):\n",
    "    for j in range(0,m-2,1):\n",
    "        d = np.append(d,A[i:i+3,j:j+3].sum())\n",
    "print(d.reshape((n-2,m-2)))\n"
   ]
  },
  {
   "cell_type": "markdown",
   "metadata": {},
   "source": [
    "# Exercise 11:   \n",
    "Calculate the 2x3 Convolution as the following example:\n",
    "```    \n",
    "M =   [[ 3 3 2 1 0]  \n",
    "       [ 0 0 1 3 1]  \n",
    "       [ 3 1 2 2 3]  \n",
    "       [ 2 0 0 2 2]  \n",
    "       [ 2 0 0 0 1]]\n",
    "```\n",
    "#### result:\n",
    "```         \n",
    "      [[ 9  10   8]  \n",
    "       [ 7   9  12]  \n",
    "       [ 8   7  11]  \n",
    "       [ 4   2   5]]\n",
    "```"
   ]
  },
  {
   "cell_type": "code",
   "execution_count": 18,
   "metadata": {},
   "outputs": [
    {
     "name": "stdout",
     "output_type": "stream",
     "text": [
      "[[ 9. 10.  8.]\n",
      " [ 7.  9. 12.]\n",
      " [ 8.  7. 11.]\n",
      " [ 4.  2.  5.]]\n"
     ]
    }
   ],
   "source": [
    "import numpy as np\n",
    "\n",
    "a = [[ 3, 3, 2, 1, 0],\n",
    "     [ 0, 0, 1, 3, 1],\n",
    "     [ 3, 1, 2, 2, 3],\n",
    "     [ 2, 0, 0, 2, 2],\n",
    "     [ 2, 0, 0, 0, 1]]\n",
    "\n",
    "A = np.array(a)\n",
    "d = np.array([])\n",
    "n = A.shape[0]\n",
    "m = A.shape[1]\n",
    "\n",
    "for i in range(0,n-1,1):\n",
    "    for j in range(0,m-2,1):\n",
    "        d = np.append(d,A[i:i+2,j:j+3].sum())\n",
    "print(d.reshape((n-1,m-2)))\n"
   ]
  },
  {
   "cell_type": "markdown",
   "metadata": {},
   "source": [
    "# Exercise 12: \n",
    "Calculate the 3x3 Convolution as the following example:  \n",
    "```    \n",
    "M =   [[ 3  3  2  1  0]  \n",
    "       [ 0  0  1  3  1]  \n",
    "       [ 3  1  2  2  3]  \n",
    "       [ 2  0  0  2  2]  \n",
    "       [ 2  0  0  0  1]]\n",
    "```\n",
    "#### result:  \n",
    "```\n",
    "      [[ 6  9 10  8  5]  \n",
    "       [10 15 15 15 10]  \n",
    "       [ 6  9 11 16 13]  \n",
    "       [ 8 10  7 12 10]  \n",
    "       [ 4  4  2  5  5]]\n",
    "```\n",
    "#### Hint:   \n",
    "Before you do the convolution, try to pad two zero columns and two zero columns , like the following:  \n",
    "\n",
    "#### notes:  \n",
    "(result.sahpe =(5,5), it means the original shpe should be(5+(3-1),5+(3-1))"
   ]
  },
  {
   "cell_type": "code",
   "execution_count": 19,
   "metadata": {},
   "outputs": [
    {
     "name": "stdout",
     "output_type": "stream",
     "text": [
      "[[ 6.  9. 10.  8.  5.]\n",
      " [10. 15. 15. 15. 10.]\n",
      " [ 6.  9. 11. 16. 13.]\n",
      " [ 8. 10.  7. 12. 10.]\n",
      " [ 4.  4.  2.  5.  5.]]\n"
     ]
    }
   ],
   "source": [
    "import numpy as np\n",
    "\n",
    "a = [[ 3, 3, 2, 1, 0],\n",
    "     [ 0, 0, 1, 3, 1],\n",
    "     [ 3, 1, 2, 2, 3],\n",
    "     [ 2, 0, 0, 2, 2],\n",
    "     [ 2, 0, 0, 0, 1]]\n",
    "A = np.array(a)\n",
    "B = np.zeros((7,7))\n",
    "C = np.array([])\n",
    "\n",
    "n = B.shape[0]\n",
    "m = B.shape[1]\n",
    "B[1:n-1,1:m-1] = A\n",
    "\n",
    "for i in range(0,n-2,1):\n",
    "    for j in range(0,m-2,1):\n",
    "        C = np.append(C,B[i:i+3,j:j+3].sum())\n",
    "print(C.reshape((n-2,m-2)))"
   ]
  },
  {
   "cell_type": "markdown",
   "metadata": {},
   "source": [
    "## Exercise13:  \n",
    "Calculate the 3x3 Convolution as the following example:  \n",
    "```    \n",
    "M =   [[ 3  3  2  1  0]    \n",
    "       [ 0  0  1  3  1]   \n",
    "       [ 3  1  2  2  3]  \n",
    "       [ 2  0  0  2  2]  \n",
    "       [ 2  0  0  0  1]]\n",
    "```\n",
    "#### result:\n",
    "```    \n",
    "      [[ 6  9 10  8  5]  \n",
    "       [10 15 15 15 10]  \n",
    "       [ 6  9 11 16 13]  \n",
    "       [ 8 10  7 12 10]  \n",
    "       [ 4  4  2  5  5]]\n",
    "```\n",
    "#### hint:  \n",
    "Before you do the convolution, try to pad two zero columns and two zero columns.  \n",
    "like the following:"
   ]
  },
  {
   "cell_type": "code",
   "execution_count": 20,
   "metadata": {},
   "outputs": [
    {
     "name": "stdout",
     "output_type": "stream",
     "text": [
      "[[ 3.  6.  5.  4.  4.]\n",
      " [ 3.  8.  6.  8.  7.]\n",
      " [ 3.  7.  6.  6. 10.]\n",
      " [ 3.  9.  3.  7.  6.]\n",
      " [ 2.  4.  2.  2.  3.]]\n"
     ]
    }
   ],
   "source": [
    "import numpy as np\n",
    "\n",
    "a = [[ 3, 3, 2, 1, 0],\n",
    "     [ 0, 0, 1, 3, 1],\n",
    "     [ 3, 1, 2, 2, 3],\n",
    "     [ 2, 0, 0, 2, 2],\n",
    "     [ 2, 0, 0, 0, 1]]\n",
    "\n",
    "w = [[1,0,1],\n",
    "     [1,1,0],\n",
    "     [1,0,0]]\n",
    "\n",
    "W = np.array(w)\n",
    "A = np.array(a)\n",
    "B = np.zeros((7,7))\n",
    "C = np.array([])\n",
    "D = np.array([])\n",
    "\n",
    "n = B.shape[0]\n",
    "m = B.shape[1]\n",
    "B[1:n-1,1:m-1] = A\n",
    "\n",
    "for i in range(0,n-2,1):\n",
    "    for j in range(0,m-2,1):\n",
    "        C = np.append(C,(B[i:i+3,j:j+3]*W).sum())\n",
    "C = C.reshape((5,5))    # a.shape=(7,7) reshape(7-(3-1),7-(3-1))\n",
    "print(C)\n"
   ]
  }
 ],
 "metadata": {
  "kernelspec": {
   "display_name": "Python 3",
   "language": "python",
   "name": "python3"
  },
  "language_info": {
   "codemirror_mode": {
    "name": "ipython",
    "version": 3
   },
   "file_extension": ".py",
   "mimetype": "text/x-python",
   "name": "python",
   "nbconvert_exporter": "python",
   "pygments_lexer": "ipython3",
   "version": "3.7.0"
  }
 },
 "nbformat": 4,
 "nbformat_minor": 4
}
