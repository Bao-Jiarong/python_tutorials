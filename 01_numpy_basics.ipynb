{
 "cells": [
  {
   "cell_type": "markdown",
   "metadata": {},
   "source": [
    "## Exercise 1:  \n",
    "Write a NumPy program to create an array of ones of size n.\n",
    "```\n",
    "Example:\n",
    "         n = 10\n",
    "         A = [ 1 1 1 1 1 1 1 1 1 1]\n",
    "```            "
   ]
  },
  {
   "cell_type": "markdown",
   "metadata": {},
   "source": [
    "#### Solution 1:"
   ]
  },
  {
   "cell_type": "code",
   "execution_count": 3,
   "metadata": {},
   "outputs": [
    {
     "name": "stdout",
     "output_type": "stream",
     "text": [
      "put the 1st number = 10\n",
      "put the 2nd number = 1\n",
      "[1. 1. 1. 1. 1. 1. 1. 1. 1. 1.]\n"
     ]
    }
   ],
   "source": [
    "import numpy as np\n",
    "n = int(input(\"put the 1st number = \"))\n",
    "x = int(input(\"put the 2nd number = \"))\n",
    "a = np.array([])\n",
    "\n",
    "for i in range(n):\n",
    "    a = np.append(a,x)\n",
    "print(a)\n"
   ]
  },
  {
   "cell_type": "markdown",
   "metadata": {},
   "source": [
    "#### Solution 2:"
   ]
  },
  {
   "cell_type": "code",
   "execution_count": 5,
   "metadata": {},
   "outputs": [
    {
     "name": "stdout",
     "output_type": "stream",
     "text": [
      "put the 1st number = 5\n",
      "put the 2nd number = 2\n",
      "[2. 2. 2. 2. 2.]\n"
     ]
    }
   ],
   "source": [
    "import numpy as np\n",
    "n = int(input(\"put the 1st number = \"))\n",
    "x = int(input(\"put the 2nd number = \"))\n",
    "a = np.array([])\n",
    "\n",
    "a = np.ones(n) * x\n",
    "print(a)"
   ]
  },
  {
   "cell_type": "markdown",
   "metadata": {},
   "source": [
    "## Exercise 2:    \n",
    "Write a NumPy program to create a zero vector of size n and update sixth value to 11.\n",
    "\n",
    "```\n",
    "     Example:\n",
    "         n = 10\n",
    "         A = [ 0 0 0 0 0 0 0 0 0 0]\n",
    "         \n",
    "         Update sixth value to 11 :\n",
    "         A = [ 0 0 0 0 0 0 11 0 0 0]\n",
    "```"
   ]
  },
  {
   "cell_type": "code",
   "execution_count": 7,
   "metadata": {},
   "outputs": [
    {
     "name": "stdout",
     "output_type": "stream",
     "text": [
      "put a number = 10\n",
      "[0. 0. 0. 0. 0. 0. 0. 0. 0. 0.]\n",
      "[ 0.  0.  0.  0.  0.  0. 11.  0.  0.  0.]\n"
     ]
    }
   ],
   "source": [
    "import numpy as np\n",
    "\n",
    "n = int(input(\"put a number = \"))\n",
    "a = np.ones(n)*0        # a = np.zeros(n)\n",
    "print(a)\n",
    "\n",
    "for i in range(n):\n",
    "    a[6]= 11\n",
    "print(a)"
   ]
  },
  {
   "cell_type": "markdown",
   "metadata": {},
   "source": [
    "## Exercise 3:    \n",
    "Write a NumPy program to create a array with values ranging from m to n.\n",
    "\n",
    "```\n",
    "     Example:\n",
    "         m = 12\n",
    "         n = 30\n",
    "     Output:\n",
    "         [12 13 14 15 16 17 18 19 20 21 22 23 24 25 26 27 28 29]\n",
    "```"
   ]
  },
  {
   "cell_type": "code",
   "execution_count": 10,
   "metadata": {},
   "outputs": [
    {
     "name": "stdout",
     "output_type": "stream",
     "text": [
      "put the 1st number = 2\n",
      "put the 2nd number = 5\n",
      "[2. 3. 4.]\n"
     ]
    }
   ],
   "source": [
    "import numpy as np\n",
    "\n",
    "m = int(input(\"put the 1st number = \"))\n",
    "n = int(input(\"put the 2nd number = \"))\n",
    "\n",
    "a = np.array([])\n",
    "\n",
    "for i in range(n-m):\n",
    "    a = np.append(a,m+i)         # a = np.arange(m,n)\n",
    "print(a)\n"
   ]
  },
  {
   "cell_type": "markdown",
   "metadata": {},
   "source": [
    "## Exercise 4:    \n",
    "Write a NumPy program to reverse an array (first element becomes last).\n",
    "\n",
    "```\n",
    "     Example:\n",
    "\n",
    "          Original array:\n",
    "                          [12 13 14 15]\n",
    "          Reverse array:\n",
    "                          [15 14 13 12]\n",
    "\n",
    "```"
   ]
  },
  {
   "cell_type": "code",
   "execution_count": 11,
   "metadata": {},
   "outputs": [
    {
     "name": "stdout",
     "output_type": "stream",
     "text": [
      "put the 1st number = 1\n",
      "put the 2nd number = 5\n",
      "[4 3 2 1]\n"
     ]
    }
   ],
   "source": [
    "import numpy as np\n",
    "m = int(input(\"put the 1st number = \"))\n",
    "n = int(input(\"put the 2nd number = \"))\n",
    "a = np.arange(m,n)\n",
    "a = a[::-1]\n",
    "print(a)"
   ]
  },
  {
   "cell_type": "markdown",
   "metadata": {},
   "source": [
    "## Exercise 5:    \n",
    "Write a NumPy program to convert the values of Centigrade degrees into Fahrenheit degrees.  \n",
    "Centigrade values are stored into a NumPy array. Use the following equation:  \n",
    "C = (F - 32) x 5/9 (Convert Fahenheit into Centigrade)\n",
    "\n",
    "```\n",
    "     Example:\n",
    "\n",
    "         A = [0, 12, 45.21 ,34, 99.91]\n",
    "            \n",
    "         Expected Output:\n",
    "         Values in Fahrenheit degrees:\n",
    "                                       [ 0. 12. 45.21 34. 99.91]\n",
    "         Values in Centigrade degrees:\n",
    "                                       [-17.78 -11.11 7.3389 1.11 37.7278]\n",
    "\n",
    "```"
   ]
  },
  {
   "cell_type": "code",
   "execution_count": 12,
   "metadata": {},
   "outputs": [
    {
     "name": "stdout",
     "output_type": "stream",
     "text": [
      "[-17.77777778 -11.11111111   7.33888889   1.11111111  37.72777778]\n"
     ]
    }
   ],
   "source": [
    "import numpy as np\n",
    "A = np.array([0, 12, 45.21, 34, 99.91])\n",
    "\n",
    "# A = np.multiply(A - 32,5/9)\n",
    "A = (A - 32) * 5/9\n",
    "print(A)\n"
   ]
  },
  {
   "cell_type": "markdown",
   "metadata": {},
   "source": [
    "## Exercise 6:    \n",
    "Write a NumPy program to test whether each element of a 1-D array is also present in a second array.\n",
    "\n",
    "```\n",
    "     Example:\n",
    "\n",
    "         Array1: [ 0 10 20 40 60]\n",
    "         Array2: [0, 40]\n",
    "            \n",
    "         Compare each element of array1 and array2\n",
    "         [ True False False True False]\n",
    "\n",
    "```"
   ]
  },
  {
   "cell_type": "markdown",
   "metadata": {},
   "source": [
    "#### Solution 1:"
   ]
  },
  {
   "cell_type": "code",
   "execution_count": 13,
   "metadata": {},
   "outputs": [
    {
     "name": "stdout",
     "output_type": "stream",
     "text": [
      "[ True False False  True False]\n"
     ]
    }
   ],
   "source": [
    "import numpy as np\n",
    "A = np.array([0, 10, 20, 40, 60])\n",
    "B = np.array([0, 40])\n",
    "c = np.array([]).astype(bool)\n",
    "n = len(A)\n",
    "\n",
    "for i in range(n):\n",
    "    if A[i] in B:\n",
    "        t = True\n",
    "    else:\n",
    "        t = False\n",
    "    c = np.append(c,t)\n",
    "print(c)\n"
   ]
  },
  {
   "cell_type": "markdown",
   "metadata": {},
   "source": [
    "#### Solution 2:"
   ]
  },
  {
   "cell_type": "code",
   "execution_count": 14,
   "metadata": {},
   "outputs": [
    {
     "name": "stdout",
     "output_type": "stream",
     "text": [
      "[ True False False  True False]\n"
     ]
    }
   ],
   "source": [
    "import numpy as np\n",
    "A = np.array([0, 10, 20, 40, 60])\n",
    "B = np.array([0, 40])\n",
    "x = np.in1d(A, B)\n",
    "print(x)"
   ]
  },
  {
   "cell_type": "markdown",
   "metadata": {},
   "source": [
    "## Exercise 7:    \n",
    "Write a NumPy program to get the unique elements of an array.\n",
    "        \n",
    "```\n",
    "     Example:\n",
    "\n",
    "         Original array:\n",
    "                         [10 10 20 20 30 30]\n",
    "         Unique elements of the above array:\n",
    "                         [10 20 30]\n",
    "```"
   ]
  },
  {
   "cell_type": "markdown",
   "metadata": {},
   "source": [
    "#### Solution 1:"
   ]
  },
  {
   "cell_type": "code",
   "execution_count": 19,
   "metadata": {},
   "outputs": [
    {
     "name": "stdout",
     "output_type": "stream",
     "text": [
      "[10. 20. 30.]\n"
     ]
    }
   ],
   "source": [
    "import numpy as np\n",
    "A = np.array([10, 10, 20, 20, 30, 30])\n",
    "A = set(A)\n",
    "B = np.array([])\n",
    "for a in A:\n",
    "    B = np.append(B,a)\n",
    "print(B)"
   ]
  },
  {
   "cell_type": "markdown",
   "metadata": {},
   "source": [
    "#### Solution 2:"
   ]
  },
  {
   "cell_type": "code",
   "execution_count": 22,
   "metadata": {},
   "outputs": [
    {
     "name": "stdout",
     "output_type": "stream",
     "text": [
      "[10 20 30]\n"
     ]
    }
   ],
   "source": [
    "import numpy as np\n",
    "A = np.array([10, 10, 20, 20, 30, 30])\n",
    "x = np.unique(A)\n",
    "print(x)"
   ]
  },
  {
   "cell_type": "markdown",
   "metadata": {},
   "source": [
    "## Exercise 8:    \n",
    "Write a NumPy program to find the set difference of two arrays.  \n",
    "The set difference will return the sorted, unique values in array1 that are not in array2.\n",
    "        \n",
    "```\n",
    "     Example:\n",
    "\n",
    "         Array1: [ 0 10 20 40 60 80]\n",
    "         Array2: [10, 30, 40, 50, 70, 90]\n",
    "         \n",
    "         Set difference between two arrays:\n",
    "         [ 0 20 60 80]\n",
    "```"
   ]
  },
  {
   "cell_type": "code",
   "execution_count": 24,
   "metadata": {},
   "outputs": [
    {
     "name": "stdout",
     "output_type": "stream",
     "text": [
      "[ 0 20 60 80]\n"
     ]
    }
   ],
   "source": [
    "import numpy as np\n",
    "A = np.array([ 0, 10, 20, 40, 60, 80])\n",
    "B = np.array([10, 30, 40, 50, 70, 90])\n",
    "x = np.setdiff1d(A, B)\n",
    "print(x)"
   ]
  },
  {
   "cell_type": "markdown",
   "metadata": {},
   "source": [
    "Exercise 9:\n",
    "Write a NumPy program to find the set exclusive-or (xor) of two arrays.  \n",
    "Set exclusive-or will return the sorted, unique values that are in only one (not both)\n",
    "of the input arrays.\n",
    "\n",
    "```\n",
    "    Example:\n",
    "\n",
    "     Array1: [ 0 10 20 40 60 80]\n",
    "     Array2: [10, 30, 40, 50, 70]\n",
    "     Unique values that are in only one (not both) of the input arrays:\n",
    "     [ 0 20 30 50 60 70 80]\n",
    "```"
   ]
  },
  {
   "cell_type": "markdown",
   "metadata": {},
   "source": [
    "#### Solution 1:"
   ]
  },
  {
   "cell_type": "code",
   "execution_count": 27,
   "metadata": {},
   "outputs": [
    {
     "name": "stdout",
     "output_type": "stream",
     "text": [
      "[ 0 20 30 50 60 70 80]\n"
     ]
    }
   ],
   "source": [
    "import numpy as np\n",
    "\n",
    "A = np.array([ 0, 10, 20, 40, 60, 80])\n",
    "B = [10, 30, 40, 50, 70]\n",
    "\n",
    "A = set(A)\n",
    "B = set(B)\n",
    "C = A^B\n",
    "C = list(C)\n",
    "C = sorted(C)\n",
    "C = np.array(C)\n",
    "print(C)\n"
   ]
  },
  {
   "cell_type": "markdown",
   "metadata": {},
   "source": [
    "#### Solution 2:"
   ]
  },
  {
   "cell_type": "code",
   "execution_count": 28,
   "metadata": {},
   "outputs": [
    {
     "name": "stdout",
     "output_type": "stream",
     "text": [
      "[ 0 20 30 50 60 70 80]\n"
     ]
    }
   ],
   "source": [
    "import numpy as np\n",
    "\n",
    "A = np.array([ 0, 10, 20, 40, 60, 80])\n",
    "B = [10, 30, 40, 50, 70]\n",
    "x = np.setxor1d(A, B)\n",
    "print(x)"
   ]
  },
  {
   "cell_type": "markdown",
   "metadata": {},
   "source": [
    "## Exercise 10:   \n",
    "Write a NumPy program to find the union of two arrays.  \n",
    "Union will return the unique, sorted array of values that are in either of\n",
    "the two input arrays.\n",
    "\n",
    "```\n",
    "    Example:\n",
    "\n",
    "     Array1: [ 0 10 20 40 60 80]\n",
    "     Array2: [10, 30, 40, 50, 70]\n",
    "     Unique sorted array of values that are in either of the two input arrays:\n",
    "     [ 0 10 20 30 40 50 60 70 80]\n",
    "```"
   ]
  },
  {
   "cell_type": "markdown",
   "metadata": {},
   "source": [
    "#### Solution 1:"
   ]
  },
  {
   "cell_type": "code",
   "execution_count": 29,
   "metadata": {},
   "outputs": [
    {
     "name": "stdout",
     "output_type": "stream",
     "text": [
      "[ 0 10 20 30 40 50 60 70 80]\n"
     ]
    }
   ],
   "source": [
    "import numpy as np\n",
    "a = np.array([ 0, 10, 20, 40, 60, 80])\n",
    "b = [10, 30, 40, 50, 70]\n",
    "c = np.concatenate((a,b),axis = 0)\n",
    "c = list(set(c))\n",
    "c = sorted(c)\n",
    "c = np.array(c)\n",
    "print(c)"
   ]
  },
  {
   "cell_type": "markdown",
   "metadata": {},
   "source": [
    "#### Solution 2:"
   ]
  },
  {
   "cell_type": "code",
   "execution_count": 30,
   "metadata": {},
   "outputs": [
    {
     "name": "stdout",
     "output_type": "stream",
     "text": [
      "[ 0 10 20 30 40 50 60 70 80]\n"
     ]
    }
   ],
   "source": [
    "import numpy as np\n",
    "a = np.array([ 0, 10, 20, 40, 60, 80])\n",
    "b = [10, 30, 40, 50, 70]\n",
    "x = np.union1d(a, b)\n",
    "print(x)"
   ]
  },
  {
   "cell_type": "markdown",
   "metadata": {},
   "source": [
    "#### Solution 3:"
   ]
  },
  {
   "cell_type": "code",
   "execution_count": 31,
   "metadata": {},
   "outputs": [
    {
     "name": "stdout",
     "output_type": "stream",
     "text": [
      "[ 0 10 20 30 40 50 60 70 80]\n"
     ]
    }
   ],
   "source": [
    "import numpy as np\n",
    "a = np.array([ 0, 10, 20, 40, 60, 80])\n",
    "b = [10, 30, 40, 50, 70]\n",
    "a = set(a)\n",
    "b = set(b)\n",
    "c = a|b\n",
    "c = list(c)\n",
    "c = sorted(c)\n",
    "c = np.array(c)\n",
    "print(c)\n"
   ]
  },
  {
   "cell_type": "markdown",
   "metadata": {},
   "source": [
    "## Exercise 11:   \n",
    "Write a NumPy program to construct an array by repeating n times.\n",
    "\n",
    "```\n",
    "    Example:\n",
    "\n",
    "     array: [1, 2, 3, 4]\n",
    "     n = 3\n",
    "     Repeating 3 times\n",
    "     [1 2 3 4 1 2 3 4 1 2 3 4]\n",
    "```"
   ]
  },
  {
   "cell_type": "markdown",
   "metadata": {},
   "source": [
    "#### Solution 1:"
   ]
  },
  {
   "cell_type": "code",
   "execution_count": 32,
   "metadata": {},
   "outputs": [
    {
     "name": "stdout",
     "output_type": "stream",
     "text": [
      "[1 2 3 4 1 2 3 4 1 2 3 4]\n"
     ]
    }
   ],
   "source": [
    "import numpy as np\n",
    "a = [1, 2, 3, 4]\n",
    "m = len(a)\n",
    "n = 3\n",
    "b = []\n",
    "\n",
    "for i in range(n):\n",
    "    for j in range(m):\n",
    "        b.append(a[j])\n",
    "\n",
    "b = np.array(b)\n",
    "print(b)"
   ]
  },
  {
   "cell_type": "markdown",
   "metadata": {},
   "source": [
    "#### Solution 2:"
   ]
  },
  {
   "cell_type": "code",
   "execution_count": 33,
   "metadata": {},
   "outputs": [
    {
     "name": "stdout",
     "output_type": "stream",
     "text": [
      "[1 2 3 4 1 2 3 4 1 2 3 4]\n"
     ]
    }
   ],
   "source": [
    "import numpy as np\n",
    "a = [1, 2, 3, 4]\n",
    "a = np.tile(a, 3)\n",
    "print(a)"
   ]
  },
  {
   "cell_type": "markdown",
   "metadata": {},
   "source": [
    "## Exercise 12:   \n",
    "Write a NumPy program to get the values and indices of the elements that are bigger than n in a given array.\n",
    "\n",
    "```\n",
    "    Example:\n",
    "    n = 10\n",
    "    Original array: [0 10 20 20 30 40]\n",
    "    Values bigger than 10 :  [20 20 30 40]\n",
    "```"
   ]
  },
  {
   "cell_type": "markdown",
   "metadata": {},
   "source": [
    "#### Solution 1:"
   ]
  },
  {
   "cell_type": "code",
   "execution_count": 34,
   "metadata": {},
   "outputs": [
    {
     "name": "stdout",
     "output_type": "stream",
     "text": [
      "put a number = 20\n",
      "[30. 40.]\n"
     ]
    }
   ],
   "source": [
    "import numpy as np\n",
    "a = np.array([0, 10, 20, 20, 30, 40])\n",
    "n = int(input(\"put a number = \"))\n",
    "m = len(a)\n",
    "b = np.array([])\n",
    "\n",
    "for i in range(m):\n",
    "    if a[i]>n:\n",
    "        b = np.append(b,a[i])\n",
    "print(b)"
   ]
  },
  {
   "cell_type": "markdown",
   "metadata": {},
   "source": [
    "#### Solution 2:"
   ]
  },
  {
   "cell_type": "code",
   "execution_count": 36,
   "metadata": {},
   "outputs": [
    {
     "name": "stdout",
     "output_type": "stream",
     "text": [
      "put a number = 20\n",
      "[30 40]\n"
     ]
    }
   ],
   "source": [
    "import numpy as np\n",
    "a = np.array([0, 10, 20, 20, 30, 40])\n",
    "n = int(input(\"put a number = \"))\n",
    "x = a[a>n]\n",
    "print(x)"
   ]
  }
 ],
 "metadata": {
  "kernelspec": {
   "display_name": "Python 3",
   "language": "python",
   "name": "python3"
  },
  "language_info": {
   "codemirror_mode": {
    "name": "ipython",
    "version": 3
   },
   "file_extension": ".py",
   "mimetype": "text/x-python",
   "name": "python",
   "nbconvert_exporter": "python",
   "pygments_lexer": "ipython3",
   "version": "3.7.0"
  }
 },
 "nbformat": 4,
 "nbformat_minor": 4
}
