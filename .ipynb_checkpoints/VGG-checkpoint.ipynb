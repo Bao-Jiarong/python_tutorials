{
 "cells": [
  {
   "cell_type": "markdown",
   "metadata": {},
   "source": [
    "  \n",
    "## VGG网络模型\n",
    "\n",
    "\n",
    "### 一、 对于VGG网络模型理解  \n",
    "\n",
    "<img src=\"../test/img/vgg16.png\" width=\"700\" height=\"300\"/>\n",
    "\n",
    "    VGG网络模型包括：vgg11,包含LRN(Local Response Normalisation)的vgg11,vgg13,vgg16,vgg16(conv3版本)以及vgg19。其中网络名称的数字代表网络的深度，如vgg11就是有11层的vgg网络。需要说明的是，这里的层数不包含maxpool和softmax这些层，因为这些层没有新增任何需要训练的参数，可以理解为“常数层”。\n",
    "\n",
    "    以vgg11为例，解释一下图表中网络的结构和组成。vgg11的网络结构即表中的第一列，以以下方式构成：  \n",
    "    conv3-64→maxpool→conv3-128→maxpool→conv3-256→conv3-256→maxpool→conv3-512→conv3-512→maxpool→conv3-512\n",
    "    →conv3-512→maxpool→FC-4096→FC-4096→FC-1000→softmax。那么这些字母组合是什么意思呢？\n",
    "\n",
    "* conv3-64的全称就是convolution kernel_size=3, the number of kernel=64，也就是说，这一层是卷积层，卷积核尺寸是3x3xn(n代表       channels，是输入该层图像数据的通道数，稍后会举例解释)，该卷积层有64个卷积核实施卷积操作。每一个卷积层都对输入图像进行了padding操作，padding的尺寸需要正好保证输出图像的尺寸与输入图像相同。\n",
    "* FC4096全称是Fully Connected 4096，是输出层连接4096个神经元的全连接层。FC1000同理；\n",
    "* maxpool就是最大池化操作。最大值池化的窗口尺寸是2×2，步长stride=2；\n",
    "* soft-max就是softmax操作。\n",
    "\n",
    "    需要说明的是，表格中每一大行对应是一个隐藏层，每个隐藏层计算完后的结果都需要经过ReLU激活函数进行激活。因为训练数据是MNIST，所以最后的FC1000需要修改为FC10，因为原文的训练数据有1000个分类，而MNIST数据集只有10个类别，因此最终输出的onehot矩阵也只需要10个神经元即可。\n",
    "    \n",
    "\n",
    "### 二、 如何构建VGG-16网络模型  \n",
    "\n",
    "\n",
    "\n",
    "<img src=\"../test/img/vgg1.png\" width=\"700\" height=\"300\"/>  \n",
    "\n",
    "上图为原图像(224×224×3)经过vgg16网络的过程中，数据尺寸的变化\n",
    "\n",
    "VGG模型有一些变种，其中最受欢迎的是 VGG-16，这是一个拥有16层的模型。你可以看到它需要维度是 224*224*3 的输入数据。\n",
    "\n",
    "VGG16输入224*224*3的图片，经过的卷积核大小为3x3x3，stride=1，padding=1，pooling为采用2x2的max pooling方式：\n",
    "\n",
    "1、输入224x224x3的图片，经过64个卷积核的两次卷积后，采用一次pooling。经过第一次卷积后，c1有（3x3x3）个可训练参数\n",
    "\n",
    "2、之后又经过两次128的卷积核卷积之后，采用一次pooling\n",
    "\n",
    "3、再经过三次256的卷积核的卷积之后，采用pooling\n",
    "\n",
    "4、重复两次三个512的卷积核卷积之后再pooling。\n",
    "\n",
    "5、三次Fc(fully connection)\n",
    "\n",
    "### 三、 训练结果 \n",
    "\n",
    "* 训练数据：MNIST dataset\n",
    "<img src=\"../test/img/vgg2.png\" width=\"400\" height=\"300\"/>\n",
    "\n",
    "* 各种VGG模型的训练结果对比\n",
    "<img src=\"../test/img/vgg3.png\" width=\"400\" height=\"300\"/>"
   ]
  },
  {
   "cell_type": "code",
   "execution_count": null,
   "metadata": {},
   "outputs": [],
   "source": []
  }
 ],
 "metadata": {
  "kernelspec": {
   "display_name": "Python 3",
   "language": "python",
   "name": "python3"
  },
  "language_info": {
   "codemirror_mode": {
    "name": "ipython",
    "version": 3
   },
   "file_extension": ".py",
   "mimetype": "text/x-python",
   "name": "python",
   "nbconvert_exporter": "python",
   "pygments_lexer": "ipython3",
   "version": "3.7.0"
  }
 },
 "nbformat": 4,
 "nbformat_minor": 4
}
